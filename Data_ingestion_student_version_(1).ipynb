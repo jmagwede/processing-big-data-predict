{
  "cells": [
    {
      "cell_type": "markdown",
      "metadata": {
        "id": "view-in-github",
        "colab_type": "text"
      },
      "source": [
        "<a href=\"https://colab.research.google.com/github/jmagwede/processing-big-data-predict/blob/main/Data_ingestion_student_version_(1).ipynb\" target=\"_parent\"><img src=\"https://colab.research.google.com/assets/colab-badge.svg\" alt=\"Open In Colab\"/></a>"
      ]
    },
    {
      "cell_type": "markdown",
      "metadata": {
        "id": "IFWZ5GQch1jY"
      },
      "source": [
        "# Processing Big Data - Data Ingestion\n",
        "© Explore Data Science Academy\n",
        "\n",
        "## Honour Code\n",
        "I {**NDIVHUHO JUDITH**, **MAGWEDE**}, confirm - by submitting this document - that the solutions in this notebook are a result of my own work and that I abide by the [EDSA honour code](https://drive.google.com/file/d/1QDCjGZJ8-FmJE3bZdIQNwnJyQKPhHZBn/view?usp=sharing).\n",
        "    Non-compliance with the honour code constitutes a material breach of contract.\n",
        "\n",
        "\n",
        "\n",
        "## Context\n",
        "\n",
        "To work constructively with any dataset, one needs to create an ingestion profile to make sure that the data at the source can be readily consumed. For this section of the predict, as the Data Engineer in the team, you will be required to design and implement the ingestion process. For the purposes of the project the AWS cloud storage service, namely, the S3 bucket service will act as your data source. All the data required can be found [here](https://processing-big-data-predict-stocks-data.s3.eu-west-1.amazonaws.com/stocks.zip).\n",
        "\n",
        "<div align=\"center\" style=\"width: 600px; font-size: 80%; text-align: center; margin: 0 auto\">\n",
        "<img src=\"https://raw.githubusercontent.com/Explore-AI/Pictures/master/data_engineering/transform/predict/DataIngestion.jpg\"\n",
        "     alt=\"Data Ingestion\"\n",
        "     style=\"float: center; padding-bottom=0.5em\"\n",
        "     width=40%/>\n",
        "     <p><em>Figure 1. Data Ingestion</em></p>\n",
        "</div>\n",
        "\n",
        "Your manager, Gnissecorp Atadgib, knowing very well that you've recently completed your Data Engineering qualification, asks you to make use of Apache Spark for the ingestion as well as the rest of the project. His rationale being, that stock market data is generated every day and is quite time-sensitive and would require scalability when deploying to a production environment.\n",
        "\n",
        "## Dataset - US Nasdaq\n",
        "\n",
        "\n",
        "\n",
        "\n",
        "<div align=\"center\" style=\"width: 600px; font-size: 80%; text-align: center; margin: 0 auto\">\n",
        "<img src=\"https://raw.githubusercontent.com/Explore-AI/Pictures/master/data_engineering/transform/predict/Nasdaq.png\"\n",
        "     alt=\"Nasdaq\"\n",
        "     style=\"float: center; padding-bottom=0.5em\"\n",
        "     width=50%/>\n",
        "     <p><em>Figure 2. Nasdaq</em></p>\n",
        "</div>\n",
        "\n",
        "The data that you will be working with is a historical snapshot of market data taken from the Nasdaq electronic market. This dataset contains historical daily prices for all tickers currently trading on Nasdaq. The up-to-date list can be found on their [website](https://www.nasdaq.com/)\n",
        "\n",
        "\n",
        "The provided data contains price data dating back from 02 January 1962 up until 01 April 2020. The data found in the S3 bucket has been stored in the following structure:\n",
        "\n",
        "```\n",
        "     stocks/<Year>/<Month>/<Day>/stocks.csv\n",
        "```\n",
        "Each CSV file for every trading day contains the following details:\n",
        "- **Date** - specifies trading date\n",
        "- **Open** - opening price\n",
        "- **High** - maximum price during the day\n",
        "- **Low** - minimum price during the day\n",
        "- **Close** - close price adjusted for splits\n",
        "- **Adj Close** - close price adjusted for both dividends and splits\n",
        "- **Volume** - the number of shares that changed hands during a given day"
      ]
    },
    {
      "cell_type": "markdown",
      "metadata": {
        "id": "FkILvzKuh1jb"
      },
      "source": [
        "## Basic initialisation\n",
        "To get you started, let's import some basic Python libraries as well as Spark modules and functions."
      ]
    },
    {
      "cell_type": "code",
      "source": [
        "!apt-get install openjdk-8-jdk-headless -qq > /dev/null\n",
        "!wget -q http://archive.apache.org/dist/spark/spark-3.1.1/spark-3.1.1-bin-hadoop3.2.tgz\n",
        "!tar xf spark-3.1.1-bin-hadoop3.2.tgz\n",
        "!pip install -q findspark\n",
        "!pip install pyspark findspark\n",
        "!pip install py4j\n",
        "\n"
      ],
      "metadata": {
        "colab": {
          "base_uri": "https://localhost:8080/"
        },
        "id": "S9UhBnXsh81c",
        "outputId": "4da37914-de0f-4e47-946d-c6f9380271b1"
      },
      "execution_count": 35,
      "outputs": [
        {
          "output_type": "stream",
          "name": "stdout",
          "text": [
            "Requirement already satisfied: pyspark in /usr/local/lib/python3.10/dist-packages (3.0.1)\n",
            "Requirement already satisfied: findspark in /usr/local/lib/python3.10/dist-packages (2.0.1)\n",
            "Requirement already satisfied: py4j==0.10.9 in /usr/local/lib/python3.10/dist-packages (from pyspark) (0.10.9)\n",
            "Requirement already satisfied: py4j in /usr/local/lib/python3.10/dist-packages (0.10.9)\n"
          ]
        }
      ]
    },
    {
      "cell_type": "code",
      "source": [
        "!pip install pyspark==3.0.1\n"
      ],
      "metadata": {
        "colab": {
          "base_uri": "https://localhost:8080/"
        },
        "id": "1nhQWgKSqAgj",
        "outputId": "c210bff1-576f-460b-91ba-7fd48e7bb327"
      },
      "execution_count": 36,
      "outputs": [
        {
          "output_type": "stream",
          "name": "stdout",
          "text": [
            "Requirement already satisfied: pyspark==3.0.1 in /usr/local/lib/python3.10/dist-packages (3.0.1)\n",
            "Requirement already satisfied: py4j==0.10.9 in /usr/local/lib/python3.10/dist-packages (from pyspark==3.0.1) (0.10.9)\n"
          ]
        }
      ]
    },
    {
      "cell_type": "code",
      "source": [
        "import os\n",
        "os.environ[\"JAVA_HOME\"] = \"/usr/lib/jvm/java-8-openjdk-amd64\"\n",
        "os.environ[\"SPARK_HOME\"] = \"/content/spark-3.1.1-bin-hadoop3.2\""
      ],
      "metadata": {
        "id": "zALSZajnh-OE"
      },
      "execution_count": 38,
      "outputs": []
    },
    {
      "cell_type": "code",
      "execution_count": 53,
      "metadata": {
        "id": "xFnpZiYHh1jb"
      },
      "outputs": [],
      "source": [
        "import pandas as pd\n",
        "import numpy as np\n",
        "import findspark\n",
        "findspark.init()\n",
        "import matplotlib.pyplot as plt\n",
        "\n",
        "from pyspark import SparkContext\n",
        "from pyspark.sql import SparkSession\n",
        "from pyspark.sql import functions as F\n",
        "from pyspark.sql.types import *"
      ]
    },
    {
      "cell_type": "code",
      "source": [
        "!pip install fsspec"
      ],
      "metadata": {
        "colab": {
          "base_uri": "https://localhost:8080/"
        },
        "id": "-SF-UCJa4BzP",
        "outputId": "039ed9b6-d67d-4986-8dd6-1a0f3c616156"
      },
      "execution_count": 40,
      "outputs": [
        {
          "output_type": "stream",
          "name": "stdout",
          "text": [
            "Requirement already satisfied: fsspec in /usr/local/lib/python3.10/dist-packages (2024.2.0)\n"
          ]
        }
      ]
    },
    {
      "cell_type": "code",
      "source": [
        "!pip install s3fs"
      ],
      "metadata": {
        "colab": {
          "base_uri": "https://localhost:8080/"
        },
        "id": "TFqYZmUl1U5Y",
        "outputId": "39234c04-ddfa-4228-bc36-2a542eedba8c"
      },
      "execution_count": 41,
      "outputs": [
        {
          "output_type": "stream",
          "name": "stdout",
          "text": [
            "Requirement already satisfied: s3fs in /usr/local/lib/python3.10/dist-packages (2024.2.0)\n",
            "Requirement already satisfied: aiobotocore<3.0.0,>=2.5.4 in /usr/local/lib/python3.10/dist-packages (from s3fs) (2.11.2)\n",
            "Requirement already satisfied: fsspec==2024.2.0 in /usr/local/lib/python3.10/dist-packages (from s3fs) (2024.2.0)\n",
            "Requirement already satisfied: aiohttp!=4.0.0a0,!=4.0.0a1 in /usr/local/lib/python3.10/dist-packages (from s3fs) (3.9.3)\n",
            "Requirement already satisfied: botocore<1.34.35,>=1.33.2 in /usr/local/lib/python3.10/dist-packages (from aiobotocore<3.0.0,>=2.5.4->s3fs) (1.34.34)\n",
            "Requirement already satisfied: wrapt<2.0.0,>=1.10.10 in /usr/local/lib/python3.10/dist-packages (from aiobotocore<3.0.0,>=2.5.4->s3fs) (1.14.1)\n",
            "Requirement already satisfied: aioitertools<1.0.0,>=0.5.1 in /usr/local/lib/python3.10/dist-packages (from aiobotocore<3.0.0,>=2.5.4->s3fs) (0.11.0)\n",
            "Requirement already satisfied: aiosignal>=1.1.2 in /usr/local/lib/python3.10/dist-packages (from aiohttp!=4.0.0a0,!=4.0.0a1->s3fs) (1.3.1)\n",
            "Requirement already satisfied: attrs>=17.3.0 in /usr/local/lib/python3.10/dist-packages (from aiohttp!=4.0.0a0,!=4.0.0a1->s3fs) (23.2.0)\n",
            "Requirement already satisfied: frozenlist>=1.1.1 in /usr/local/lib/python3.10/dist-packages (from aiohttp!=4.0.0a0,!=4.0.0a1->s3fs) (1.4.1)\n",
            "Requirement already satisfied: multidict<7.0,>=4.5 in /usr/local/lib/python3.10/dist-packages (from aiohttp!=4.0.0a0,!=4.0.0a1->s3fs) (6.0.5)\n",
            "Requirement already satisfied: yarl<2.0,>=1.0 in /usr/local/lib/python3.10/dist-packages (from aiohttp!=4.0.0a0,!=4.0.0a1->s3fs) (1.9.4)\n",
            "Requirement already satisfied: async-timeout<5.0,>=4.0 in /usr/local/lib/python3.10/dist-packages (from aiohttp!=4.0.0a0,!=4.0.0a1->s3fs) (4.0.3)\n",
            "Requirement already satisfied: jmespath<2.0.0,>=0.7.1 in /usr/local/lib/python3.10/dist-packages (from botocore<1.34.35,>=1.33.2->aiobotocore<3.0.0,>=2.5.4->s3fs) (1.0.1)\n",
            "Requirement already satisfied: python-dateutil<3.0.0,>=2.1 in /usr/local/lib/python3.10/dist-packages (from botocore<1.34.35,>=1.33.2->aiobotocore<3.0.0,>=2.5.4->s3fs) (2.8.2)\n",
            "Requirement already satisfied: urllib3<2.1,>=1.25.4 in /usr/local/lib/python3.10/dist-packages (from botocore<1.34.35,>=1.33.2->aiobotocore<3.0.0,>=2.5.4->s3fs) (2.0.7)\n",
            "Requirement already satisfied: idna>=2.0 in /usr/local/lib/python3.10/dist-packages (from yarl<2.0,>=1.0->aiohttp!=4.0.0a0,!=4.0.0a1->s3fs) (3.6)\n",
            "Requirement already satisfied: six>=1.5 in /usr/local/lib/python3.10/dist-packages (from python-dateutil<3.0.0,>=2.1->botocore<1.34.35,>=1.33.2->aiobotocore<3.0.0,>=2.5.4->s3fs) (1.16.0)\n"
          ]
        }
      ]
    },
    {
      "cell_type": "code",
      "source": [
        "import s3fs"
      ],
      "metadata": {
        "id": "DcvHegAu1hUh"
      },
      "execution_count": 42,
      "outputs": []
    },
    {
      "cell_type": "code",
      "source": [
        "import pyspark\n",
        "print(pyspark.__version__)"
      ],
      "metadata": {
        "colab": {
          "base_uri": "https://localhost:8080/"
        },
        "id": "XVFFHzwHoks3",
        "outputId": "7f0b9ece-30d1-483e-a809-c94f321fae14"
      },
      "execution_count": 43,
      "outputs": [
        {
          "output_type": "stream",
          "name": "stdout",
          "text": [
            "3.1.1\n"
          ]
        }
      ]
    },
    {
      "cell_type": "markdown",
      "metadata": {
        "id": "c6sWTst4h1jd"
      },
      "source": [
        "Remember that we need a `SparkContext` and `SparkSession` to interface with Spark.\n",
        "We will mostly be using the `SparkContext` to interact with RDDs and the `SparkSession` to interface with Python objects.\n",
        "\n",
        "> ℹ️ **Instructions** ℹ️\n",
        ">\n",
        ">Initialise a new **Spark Context** and **Session** that you will use to interface with Spark."
      ]
    },
    {
      "cell_type": "code",
      "execution_count": 44,
      "metadata": {
        "id": "z3S7kA5ph1jd"
      },
      "outputs": [],
      "source": [
        "#TODO: Write your code here\n",
        "\n",
        "spark = SparkSession.builder.master(\"local[*]\").appName(\"YourAppName\").getOrCreate()\n",
        "\n",
        "# Access the SparkContext from SparkSession\n",
        "sc = spark.sparkContext"
      ]
    },
    {
      "cell_type": "markdown",
      "metadata": {
        "id": "RDNCyNi6h1je"
      },
      "source": [
        "## Investigate dataset schema\n",
        "At this point, it is enough to read in a single file to ascertain the data structure. You will be required to use the information obtained from the small subset to create a data schema. This data schema will be used when reading the entire dataset using Spark.\n",
        "\n",
        "> ℹ️ **Instructions** ℹ️\n",
        ">\n",
        ">Make use of Pandas to read in a single file and investigate the plausible data types to be used when creating a Spark data schema.\n",
        ">\n",
        ">*You may use as many coding cells as necessary.*"
      ]
    },
    {
      "cell_type": "code",
      "source": [
        "from google.colab import files\n",
        "uploaded = files.upload()"
      ],
      "metadata": {
        "colab": {
          "base_uri": "https://localhost:8080/",
          "height": 73
        },
        "id": "yY1dPP2WJs7j",
        "outputId": "79d5bbd7-3e8d-4694-d034-4a7f1e39cc7d"
      },
      "execution_count": 57,
      "outputs": [
        {
          "output_type": "display_data",
          "data": {
            "text/plain": [
              "<IPython.core.display.HTML object>"
            ],
            "text/html": [
              "\n",
              "     <input type=\"file\" id=\"files-0573a98d-f8d5-49a5-bcce-82bbcecc8cd1\" name=\"files[]\" multiple disabled\n",
              "        style=\"border:none\" />\n",
              "     <output id=\"result-0573a98d-f8d5-49a5-bcce-82bbcecc8cd1\">\n",
              "      Upload widget is only available when the cell has been executed in the\n",
              "      current browser session. Please rerun this cell to enable.\n",
              "      </output>\n",
              "      <script>// Copyright 2017 Google LLC\n",
              "//\n",
              "// Licensed under the Apache License, Version 2.0 (the \"License\");\n",
              "// you may not use this file except in compliance with the License.\n",
              "// You may obtain a copy of the License at\n",
              "//\n",
              "//      http://www.apache.org/licenses/LICENSE-2.0\n",
              "//\n",
              "// Unless required by applicable law or agreed to in writing, software\n",
              "// distributed under the License is distributed on an \"AS IS\" BASIS,\n",
              "// WITHOUT WARRANTIES OR CONDITIONS OF ANY KIND, either express or implied.\n",
              "// See the License for the specific language governing permissions and\n",
              "// limitations under the License.\n",
              "\n",
              "/**\n",
              " * @fileoverview Helpers for google.colab Python module.\n",
              " */\n",
              "(function(scope) {\n",
              "function span(text, styleAttributes = {}) {\n",
              "  const element = document.createElement('span');\n",
              "  element.textContent = text;\n",
              "  for (const key of Object.keys(styleAttributes)) {\n",
              "    element.style[key] = styleAttributes[key];\n",
              "  }\n",
              "  return element;\n",
              "}\n",
              "\n",
              "// Max number of bytes which will be uploaded at a time.\n",
              "const MAX_PAYLOAD_SIZE = 100 * 1024;\n",
              "\n",
              "function _uploadFiles(inputId, outputId) {\n",
              "  const steps = uploadFilesStep(inputId, outputId);\n",
              "  const outputElement = document.getElementById(outputId);\n",
              "  // Cache steps on the outputElement to make it available for the next call\n",
              "  // to uploadFilesContinue from Python.\n",
              "  outputElement.steps = steps;\n",
              "\n",
              "  return _uploadFilesContinue(outputId);\n",
              "}\n",
              "\n",
              "// This is roughly an async generator (not supported in the browser yet),\n",
              "// where there are multiple asynchronous steps and the Python side is going\n",
              "// to poll for completion of each step.\n",
              "// This uses a Promise to block the python side on completion of each step,\n",
              "// then passes the result of the previous step as the input to the next step.\n",
              "function _uploadFilesContinue(outputId) {\n",
              "  const outputElement = document.getElementById(outputId);\n",
              "  const steps = outputElement.steps;\n",
              "\n",
              "  const next = steps.next(outputElement.lastPromiseValue);\n",
              "  return Promise.resolve(next.value.promise).then((value) => {\n",
              "    // Cache the last promise value to make it available to the next\n",
              "    // step of the generator.\n",
              "    outputElement.lastPromiseValue = value;\n",
              "    return next.value.response;\n",
              "  });\n",
              "}\n",
              "\n",
              "/**\n",
              " * Generator function which is called between each async step of the upload\n",
              " * process.\n",
              " * @param {string} inputId Element ID of the input file picker element.\n",
              " * @param {string} outputId Element ID of the output display.\n",
              " * @return {!Iterable<!Object>} Iterable of next steps.\n",
              " */\n",
              "function* uploadFilesStep(inputId, outputId) {\n",
              "  const inputElement = document.getElementById(inputId);\n",
              "  inputElement.disabled = false;\n",
              "\n",
              "  const outputElement = document.getElementById(outputId);\n",
              "  outputElement.innerHTML = '';\n",
              "\n",
              "  const pickedPromise = new Promise((resolve) => {\n",
              "    inputElement.addEventListener('change', (e) => {\n",
              "      resolve(e.target.files);\n",
              "    });\n",
              "  });\n",
              "\n",
              "  const cancel = document.createElement('button');\n",
              "  inputElement.parentElement.appendChild(cancel);\n",
              "  cancel.textContent = 'Cancel upload';\n",
              "  const cancelPromise = new Promise((resolve) => {\n",
              "    cancel.onclick = () => {\n",
              "      resolve(null);\n",
              "    };\n",
              "  });\n",
              "\n",
              "  // Wait for the user to pick the files.\n",
              "  const files = yield {\n",
              "    promise: Promise.race([pickedPromise, cancelPromise]),\n",
              "    response: {\n",
              "      action: 'starting',\n",
              "    }\n",
              "  };\n",
              "\n",
              "  cancel.remove();\n",
              "\n",
              "  // Disable the input element since further picks are not allowed.\n",
              "  inputElement.disabled = true;\n",
              "\n",
              "  if (!files) {\n",
              "    return {\n",
              "      response: {\n",
              "        action: 'complete',\n",
              "      }\n",
              "    };\n",
              "  }\n",
              "\n",
              "  for (const file of files) {\n",
              "    const li = document.createElement('li');\n",
              "    li.append(span(file.name, {fontWeight: 'bold'}));\n",
              "    li.append(span(\n",
              "        `(${file.type || 'n/a'}) - ${file.size} bytes, ` +\n",
              "        `last modified: ${\n",
              "            file.lastModifiedDate ? file.lastModifiedDate.toLocaleDateString() :\n",
              "                                    'n/a'} - `));\n",
              "    const percent = span('0% done');\n",
              "    li.appendChild(percent);\n",
              "\n",
              "    outputElement.appendChild(li);\n",
              "\n",
              "    const fileDataPromise = new Promise((resolve) => {\n",
              "      const reader = new FileReader();\n",
              "      reader.onload = (e) => {\n",
              "        resolve(e.target.result);\n",
              "      };\n",
              "      reader.readAsArrayBuffer(file);\n",
              "    });\n",
              "    // Wait for the data to be ready.\n",
              "    let fileData = yield {\n",
              "      promise: fileDataPromise,\n",
              "      response: {\n",
              "        action: 'continue',\n",
              "      }\n",
              "    };\n",
              "\n",
              "    // Use a chunked sending to avoid message size limits. See b/62115660.\n",
              "    let position = 0;\n",
              "    do {\n",
              "      const length = Math.min(fileData.byteLength - position, MAX_PAYLOAD_SIZE);\n",
              "      const chunk = new Uint8Array(fileData, position, length);\n",
              "      position += length;\n",
              "\n",
              "      const base64 = btoa(String.fromCharCode.apply(null, chunk));\n",
              "      yield {\n",
              "        response: {\n",
              "          action: 'append',\n",
              "          file: file.name,\n",
              "          data: base64,\n",
              "        },\n",
              "      };\n",
              "\n",
              "      let percentDone = fileData.byteLength === 0 ?\n",
              "          100 :\n",
              "          Math.round((position / fileData.byteLength) * 100);\n",
              "      percent.textContent = `${percentDone}% done`;\n",
              "\n",
              "    } while (position < fileData.byteLength);\n",
              "  }\n",
              "\n",
              "  // All done.\n",
              "  yield {\n",
              "    response: {\n",
              "      action: 'complete',\n",
              "    }\n",
              "  };\n",
              "}\n",
              "\n",
              "scope.google = scope.google || {};\n",
              "scope.google.colab = scope.google.colab || {};\n",
              "scope.google.colab._files = {\n",
              "  _uploadFiles,\n",
              "  _uploadFilesContinue,\n",
              "};\n",
              "})(self);\n",
              "</script> "
            ]
          },
          "metadata": {}
        },
        {
          "output_type": "stream",
          "name": "stdout",
          "text": [
            "Saving stocks.csv to stocks.csv\n"
          ]
        }
      ]
    },
    {
      "cell_type": "code",
      "source": [
        "import io"
      ],
      "metadata": {
        "id": "mYEaBFxUPbKW"
      },
      "execution_count": 58,
      "outputs": []
    },
    {
      "cell_type": "code",
      "execution_count": 59,
      "metadata": {
        "id": "NGPV19Rah1je",
        "outputId": "5372e4b1-300c-410f-f971-e796bf373ddb",
        "colab": {
          "base_uri": "https://localhost:8080/"
        }
      },
      "outputs": [
        {
          "output_type": "stream",
          "name": "stdout",
          "text": [
            "Date          object\n",
            "Open         float64\n",
            "High         float64\n",
            "Low          float64\n",
            "Close        float64\n",
            "Adj Close    float64\n",
            "Volume       float64\n",
            "stock         object\n",
            "dtype: object\n"
          ]
        }
      ],
      "source": [
        "# Assuming the file is uploaded correctly\n",
        "df_sample = pd.read_csv(io.BytesIO(uploaded['stocks.csv']))\n",
        "\n",
        "# Display the data types of the columns\n",
        "print(df_sample.dtypes)"
      ]
    },
    {
      "cell_type": "markdown",
      "metadata": {
        "tags": [],
        "id": "6qSt2VQbh1jf"
      },
      "source": [
        "## Read CSV files\n",
        "\n",
        "When working with big data, it is often not tenable to keep processing an entire data batch when you are in the process of development - this can be quite time-consuming. If the data is uniform, it is sufficient to work with a smaller subset to create basic functionality. Your manager has identified the year **1962** to perform the initial testing for data ingestion.\n",
        "\n",
        "> ℹ️ **Instructions** ℹ️\n",
        ">\n",
        ">Read in the data for **1962** using a data schema that purely uses string data types. You will be required to convert to the appropriate data types at a later stage.\n",
        ">\n",
        ">*You may use as many coding cells as necessary.*"
      ]
    },
    {
      "cell_type": "code",
      "source": [
        "file_name = next(iter(uploaded))\n",
        "file_path_1962 = file_name"
      ],
      "metadata": {
        "id": "nHoZkskbUx5c"
      },
      "execution_count": 15,
      "outputs": []
    },
    {
      "cell_type": "code",
      "execution_count": 16,
      "metadata": {
        "id": "CTFPSug7h1jf",
        "colab": {
          "base_uri": "https://localhost:8080/"
        },
        "outputId": "d1135d6e-c194-4df9-bfc7-06f2b90e9ac4"
      },
      "outputs": [
        {
          "output_type": "stream",
          "name": "stdout",
          "text": [
            "+----------+-------------------+-------------------+-------------------+-------------------+--------------------+---------+\n",
            "|      Date|               Open|               High|                Low|              Close|           Adj Close|   Volume|\n",
            "+----------+-------------------+-------------------+-------------------+-------------------+--------------------+---------+\n",
            "|      Date|               Open|               High|                Low|              Close|           Adj Close|   Volume|\n",
            "|1962-01-02| 6.5321550369262695|  6.556184768676758| 6.5321550369262695| 6.5321550369262695|  1.5366575717926023|  55900.0|\n",
            "|1962-01-02|  6.125843524932861|  6.160982131958008|  6.125843524932861|  6.125843524932861|  1.4146506786346436|  59700.0|\n",
            "|1962-01-02| 0.8374485373497009| 0.8374485373497009| 0.8230452537536621| 0.8230452537536621|  0.1457476019859314| 352200.0|\n",
            "|1962-01-02| 1.6041666269302368| 1.6197916269302368| 1.5885416269302368| 1.6041666269302368| 0.13695742189884186| 163200.0|\n",
            "|1962-01-02|                0.0| 3.2961308956146236| 3.2440476417541504| 3.2961308956146236|  0.0519925132393837| 105600.0|\n",
            "|1962-01-02|0.09290838986635208|0.09602611511945723|0.09290838986635208|0.09290838986635208| 0.03551724553108215| 817400.0|\n",
            "|1962-01-02|                0.0|            30.6875|             30.375|             30.375|  0.5069432854652405|   1600.0|\n",
            "|1962-01-02|                0.0|           10.28125|             10.125|             10.125|  0.2273507714271545|  25600.0|\n",
            "|1962-01-02|                0.0|             7.6875|  7.541666507720947|  7.583333492279053|  0.9789445996284484|  49200.0|\n",
            "|1962-01-02| 0.7512019276618958| 0.7637219429016113| 0.7436898946762085| 0.7486979365348816|0.001781592378392...|2156500.0|\n",
            "|1962-01-02|                0.0|            11.1875|               11.0|             11.125|  1.9360235929489136|  32000.0|\n",
            "|1962-01-02|0.13127270340919495|0.13127270340919495|0.12417688220739365|0.12417688220739365| 0.00688728503882885|2480300.0|\n",
            "|1962-01-02| 7.7133331298828125| 7.7133331298828125|   7.62666654586792|   7.62666654586792|   0.618152916431427| 387200.0|\n",
            "|1962-01-02|                0.0|  9.064276695251463|  8.852776527404785|  8.852776527404785|  0.7757689356803894|  48600.0|\n",
            "|1962-01-02|                0.0|0.22337962687015533| 0.2222222238779068|0.22337962687015533|6.281418905018654...|      0.0|\n",
            "|1962-01-02| 0.2630208432674408| 0.2701822817325592| 0.2630208432674408| 0.2630208432674408|0.004237719811499119| 806400.0|\n",
            "|1962-01-02|                0.0| 0.1918402761220932| 0.1892361044883728| 0.1892361044883728|0.000231621830607...| 345600.0|\n",
            "|1962-01-02|                0.0|            263.125|            258.125|            260.625|   116.5582046508789|    400.0|\n",
            "|1962-01-02|                0.0|         1.44140625|           1.421875|          1.4296875|0.013509385287761688| 192000.0|\n",
            "+----------+-------------------+-------------------+-------------------+-------------------+--------------------+---------+\n",
            "only showing top 20 rows\n",
            "\n"
          ]
        }
      ],
      "source": [
        "#TODO: Write your code here\n",
        "\n",
        "# Define the schema with string data types\n",
        "schema = StructType([\n",
        "    StructField(\"Date\", StringType(), True),\n",
        "    StructField(\"Open\", StringType(), True),\n",
        "    StructField(\"High\", StringType(), True),\n",
        "    StructField(\"Low\", StringType(), True),\n",
        "    StructField(\"Close\", StringType(), True),\n",
        "    StructField(\"Adj Close\", StringType(), True),\n",
        "    StructField(\"Volume\", StringType(), True)\n",
        "])\n",
        "\n",
        "# Read the data for 1962 using the defined schema\n",
        "df_1962 = spark.read.csv(file_path_1962, schema=schema)\n",
        "\n",
        "# Show the first few rows of the dataframe\n",
        "df_1962.show()"
      ]
    },
    {
      "cell_type": "markdown",
      "metadata": {
        "id": "rkMDK3bQh1jf"
      },
      "source": [
        "## Update column names\n",
        "To make the data easier to work with, you will need to make a few changes:\n",
        "1. Column headers should all be in lowercase; and\n",
        "2. Whitespaces should be replaced with underscores.\n",
        "\n",
        "\n",
        "> ℹ️ **Instructions** ℹ️\n",
        ">\n",
        ">Make sure that the column headers are all in lowercase and that any whitespaces are replaced with underscores.\n",
        ">\n",
        ">*You may use as many coding cells as necessary.*"
      ]
    },
    {
      "cell_type": "code",
      "execution_count": 17,
      "metadata": {
        "id": "hsPCQ9_gh1jg",
        "colab": {
          "base_uri": "https://localhost:8080/"
        },
        "outputId": "318b53f0-8947-4744-83b4-a4ceaa6ae6c0"
      },
      "outputs": [
        {
          "output_type": "stream",
          "name": "stdout",
          "text": [
            "+----------+-------------------+-------------------+-------------------+-------------------+--------------------+---------+\n",
            "|      date|               open|               high|                low|              close|           adj_close|   volume|\n",
            "+----------+-------------------+-------------------+-------------------+-------------------+--------------------+---------+\n",
            "|      Date|               Open|               High|                Low|              Close|           Adj Close|   Volume|\n",
            "|1962-01-02| 6.5321550369262695|  6.556184768676758| 6.5321550369262695| 6.5321550369262695|  1.5366575717926023|  55900.0|\n",
            "|1962-01-02|  6.125843524932861|  6.160982131958008|  6.125843524932861|  6.125843524932861|  1.4146506786346436|  59700.0|\n",
            "|1962-01-02| 0.8374485373497009| 0.8374485373497009| 0.8230452537536621| 0.8230452537536621|  0.1457476019859314| 352200.0|\n",
            "|1962-01-02| 1.6041666269302368| 1.6197916269302368| 1.5885416269302368| 1.6041666269302368| 0.13695742189884186| 163200.0|\n",
            "|1962-01-02|                0.0| 3.2961308956146236| 3.2440476417541504| 3.2961308956146236|  0.0519925132393837| 105600.0|\n",
            "|1962-01-02|0.09290838986635208|0.09602611511945723|0.09290838986635208|0.09290838986635208| 0.03551724553108215| 817400.0|\n",
            "|1962-01-02|                0.0|            30.6875|             30.375|             30.375|  0.5069432854652405|   1600.0|\n",
            "|1962-01-02|                0.0|           10.28125|             10.125|             10.125|  0.2273507714271545|  25600.0|\n",
            "|1962-01-02|                0.0|             7.6875|  7.541666507720947|  7.583333492279053|  0.9789445996284484|  49200.0|\n",
            "|1962-01-02| 0.7512019276618958| 0.7637219429016113| 0.7436898946762085| 0.7486979365348816|0.001781592378392...|2156500.0|\n",
            "|1962-01-02|                0.0|            11.1875|               11.0|             11.125|  1.9360235929489136|  32000.0|\n",
            "|1962-01-02|0.13127270340919495|0.13127270340919495|0.12417688220739365|0.12417688220739365| 0.00688728503882885|2480300.0|\n",
            "|1962-01-02| 7.7133331298828125| 7.7133331298828125|   7.62666654586792|   7.62666654586792|   0.618152916431427| 387200.0|\n",
            "|1962-01-02|                0.0|  9.064276695251463|  8.852776527404785|  8.852776527404785|  0.7757689356803894|  48600.0|\n",
            "|1962-01-02|                0.0|0.22337962687015533| 0.2222222238779068|0.22337962687015533|6.281418905018654...|      0.0|\n",
            "|1962-01-02| 0.2630208432674408| 0.2701822817325592| 0.2630208432674408| 0.2630208432674408|0.004237719811499119| 806400.0|\n",
            "|1962-01-02|                0.0| 0.1918402761220932| 0.1892361044883728| 0.1892361044883728|0.000231621830607...| 345600.0|\n",
            "|1962-01-02|                0.0|            263.125|            258.125|            260.625|   116.5582046508789|    400.0|\n",
            "|1962-01-02|                0.0|         1.44140625|           1.421875|          1.4296875|0.013509385287761688| 192000.0|\n",
            "+----------+-------------------+-------------------+-------------------+-------------------+--------------------+---------+\n",
            "only showing top 20 rows\n",
            "\n"
          ]
        }
      ],
      "source": [
        "#TODO: Write your code here\n",
        "# Update column names to lowercase and replace whitespaces with underscores\n",
        "df_1962 = df_1962.toDF(*[c.lower().replace(' ', '_') for c in df_1962.columns])\n",
        "\n",
        "# Show the updated column names\n",
        "df_1962.show()"
      ]
    },
    {
      "cell_type": "markdown",
      "metadata": {
        "id": "ZJ59P9dmh1jg"
      },
      "source": [
        "## Null Values\n",
        "Null values often represent missing pieces of data. It is always good to know where your null values lie - so you can quickly identify and remedy any issues stemming from these.\n",
        "\n",
        "> ℹ️ **Instructions** ℹ️\n",
        ">\n",
        ">Write code to count the number of null values found in each column.\n",
        ">\n",
        ">*You may use as many coding cells as necessary.*"
      ]
    },
    {
      "cell_type": "code",
      "execution_count": 18,
      "metadata": {
        "id": "fAqCmxb3h1jg",
        "outputId": "c72db444-6a79-42df-b5f6-d4809149b333",
        "colab": {
          "base_uri": "https://localhost:8080/"
        }
      },
      "outputs": [
        {
          "output_type": "stream",
          "name": "stdout",
          "text": [
            "+----+----+----+---+-----+---------+------+\n",
            "|date|open|high|low|close|adj_close|volume|\n",
            "+----+----+----+---+-----+---------+------+\n",
            "|   0|   0|   0|  0|    0|        0|     0|\n",
            "+----+----+----+---+-----+---------+------+\n",
            "\n"
          ]
        }
      ],
      "source": [
        "#TODO: Write your code here\n",
        "# Count the number of null values in each column\n",
        "from pyspark.sql.functions import isnan, when, count, col\n",
        "\n",
        "df_1962.select([count(when(isnan(c) | col(c).isNull(), c)).alias(c) for c in df_1962.columns]).show()"
      ]
    },
    {
      "cell_type": "markdown",
      "metadata": {
        "id": "bhtw341Th1jh"
      },
      "source": [
        "## Data type conversion - The final data schema\n",
        "\n",
        "Now that we have identified the number of missing values in the data set, we'll move on to convert our data schema to the required data types.\n",
        "\n",
        "> ℹ️ **Instructions** ℹ️\n",
        ">\n",
        ">Use typecasting to convert the string data types in your current data schema to more appropriate data types.\n",
        ">\n",
        ">*You may use as many coding cells as necessary.*"
      ]
    },
    {
      "cell_type": "code",
      "source": [
        "from pyspark.sql.types import DateType, DoubleType"
      ],
      "metadata": {
        "id": "-7W0mj_jc1ZA"
      },
      "execution_count": 19,
      "outputs": []
    },
    {
      "cell_type": "code",
      "source": [
        "df_1962.columns"
      ],
      "metadata": {
        "colab": {
          "base_uri": "https://localhost:8080/"
        },
        "id": "pbQSO5kkfLId",
        "outputId": "f51da77d-907a-49a3-9043-0d57d2a76009"
      },
      "execution_count": 22,
      "outputs": [
        {
          "output_type": "execute_result",
          "data": {
            "text/plain": [
              "['Date', 'Open', 'High', 'Low', 'Close', 'adj_close', 'volume']"
            ]
          },
          "metadata": {},
          "execution_count": 22
        }
      ]
    },
    {
      "cell_type": "code",
      "execution_count": 23,
      "metadata": {
        "id": "BKAd-vwoh1jh",
        "outputId": "b2d579cd-8a71-4bb5-fd04-38d10dc38809",
        "colab": {
          "base_uri": "https://localhost:8080/"
        }
      },
      "outputs": [
        {
          "output_type": "stream",
          "name": "stdout",
          "text": [
            "root\n",
            " |-- Date: date (nullable = true)\n",
            " |-- Open: double (nullable = true)\n",
            " |-- High: double (nullable = true)\n",
            " |-- Low: double (nullable = true)\n",
            " |-- Close: double (nullable = true)\n",
            " |-- adj_close: double (nullable = true)\n",
            " |-- Volume: integer (nullable = true)\n",
            "\n"
          ]
        }
      ],
      "source": [
        "#TODO: Write your code here\n",
        "# Convert string data types to appropriate data types\n",
        "df_1962 = df_1962.withColumn(\"Date\", df_1962[\"Date\"].cast(DateType()))\n",
        "df_1962 = df_1962.withColumn(\"Open\", df_1962[\"Open\"].cast(DoubleType()))\n",
        "df_1962 = df_1962.withColumn(\"High\", df_1962[\"High\"].cast(DoubleType()))\n",
        "df_1962 = df_1962.withColumn(\"Low\", df_1962[\"Low\"].cast(DoubleType()))\n",
        "df_1962 = df_1962.withColumn(\"Close\", df_1962[\"Close\"].cast(DoubleType()))\n",
        "df_1962 = df_1962.withColumn(\"adj_close\", df_1962[\"adj_close\"].cast(DoubleType()))\n",
        "df_1962 = df_1962.withColumn(\"Volume\", df_1962[\"Volume\"].cast(IntegerType()))\n",
        "\n",
        "# Show the updated data types\n",
        "df_1962.printSchema()"
      ]
    },
    {
      "cell_type": "markdown",
      "metadata": {
        "id": "V_GTUcwBh1jh"
      },
      "source": [
        "## Consolidate missing values\n",
        "We have to check if the data type conversion above was done correctly.\n",
        "If the casting was not successful, a null value gets inserted into the dataframe. You can thus check for successful conversion by determining if any null values are included in the resulting dataframe.\n",
        "\n",
        "\n",
        "> ℹ️ **Instructions** ℹ️\n",
        ">\n",
        ">Write code to compare the number of invalid entries (nulls) pre-conversion and post-conversion.\n",
        ">\n",
        ">*You may use as many coding cells as necessary.*"
      ]
    },
    {
      "cell_type": "code",
      "execution_count": 27,
      "metadata": {
        "id": "CgYg2wpEh1jh",
        "outputId": "7060a535-7473-42cd-ad81-3cd84eb0290b",
        "colab": {
          "base_uri": "https://localhost:8080/"
        }
      },
      "outputs": [
        {
          "output_type": "stream",
          "name": "stdout",
          "text": [
            "+----+----+----+---+-----+---------+------+\n",
            "|Date|Open|High|Low|Close|adj_close|Volume|\n",
            "+----+----+----+---+-----+---------+------+\n",
            "|   0|   0|   0|  0|    0|        0|     0|\n",
            "+----+----+----+---+-----+---------+------+\n",
            "\n"
          ]
        }
      ],
      "source": [
        "#TODO: Write your code here\n",
        "# Count the number of null values in each column before and after conversion\n",
        "import pyspark.sql.functions as F\n",
        "\n",
        "df_1962_converted = df_1962.na.drop()\n",
        "\n",
        "#Check for null values in Date columns\n",
        "df_1962_converted.select([\n",
        "    F.count(F.when(F.col(c).isNull(), c)).alias(c) for c in df_1962_converted.columns\n",
        "]).show()"
      ]
    },
    {
      "cell_type": "markdown",
      "metadata": {
        "id": "fmQ1Ahp4h1ji"
      },
      "source": [
        "Here you should be able to see if any of your casts went wrong.\n",
        "Do not attempt to correct any missing values at this point. This will be dealt with in later sections of the predict."
      ]
    },
    {
      "cell_type": "markdown",
      "metadata": {
        "id": "mkjj8Gc2h1ji"
      },
      "source": [
        "## Generate parquet files\n",
        "When writing in Spark, we typically use parquet format. This format allows parallel writing using Spark's optimisation while maintaining other useful things like metadata.\n",
        "\n",
        "When writing, it is good to make sure that the data is sufficiently partitioned.\n",
        "\n",
        "Generally, data should be partitioned with one partition for every 200MB of data, but this also depends on the size of your cluster and executors.\n"
      ]
    },
    {
      "cell_type": "markdown",
      "metadata": {
        "id": "GjLNs73nh1ji"
      },
      "source": [
        "### Check the size of the dataframe before partitioning"
      ]
    },
    {
      "cell_type": "code",
      "execution_count": 61,
      "metadata": {
        "id": "unzMedKCh1ji"
      },
      "outputs": [],
      "source": [
        "from pyspark.serializers import PickleSerializer, AutoBatchedSerializer"
      ]
    },
    {
      "cell_type": "code",
      "source": [
        "df = spark.read.csv('stocks.csv', header=True, inferSchema=True)\n"
      ],
      "metadata": {
        "id": "OGIgJSwN2Vr9"
      },
      "execution_count": 64,
      "outputs": []
    },
    {
      "cell_type": "code",
      "source": [
        "df.show(5)\n"
      ],
      "metadata": {
        "colab": {
          "base_uri": "https://localhost:8080/"
        },
        "id": "3QXitf8X2bxP",
        "outputId": "6d645ecc-843e-4eab-ea65-84ff939adfcc"
      },
      "execution_count": 65,
      "outputs": [
        {
          "output_type": "stream",
          "name": "stdout",
          "text": [
            "+----------+------------------+------------------+------------------+------------------+-------------------+--------+-----+\n",
            "|      Date|              Open|              High|               Low|             Close|          Adj Close|  Volume|stock|\n",
            "+----------+------------------+------------------+------------------+------------------+-------------------+--------+-----+\n",
            "|1962-01-02|6.5321550369262695| 6.556184768676758|6.5321550369262695|6.5321550369262695| 1.5366575717926023| 55900.0|   AA|\n",
            "|1962-01-02| 6.125843524932861| 6.160982131958008| 6.125843524932861| 6.125843524932861| 1.4146506786346436| 59700.0| ARNC|\n",
            "|1962-01-02|0.8374485373497009|0.8374485373497009|0.8230452537536621|0.8230452537536621| 0.1457476019859314|352200.0|   BA|\n",
            "|1962-01-02|1.6041666269302368|1.6197916269302368|1.5885416269302368|1.6041666269302368|0.13695742189884186|163200.0|  CAT|\n",
            "|1962-01-02|               0.0|3.2961308956146236|3.2440476417541504|3.2961308956146236| 0.0519925132393837|105600.0|  CVX|\n",
            "+----------+------------------+------------------+------------------+------------------+-------------------+--------+-----+\n",
            "only showing top 5 rows\n",
            "\n"
          ]
        }
      ]
    },
    {
      "cell_type": "code",
      "execution_count": 66,
      "metadata": {
        "id": "tYGjF01xh1ji",
        "colab": {
          "base_uri": "https://localhost:8080/"
        },
        "outputId": "062754b1-638b-4505-afd2-83e2282fe78d"
      },
      "outputs": [
        {
          "output_type": "stream",
          "name": "stdout",
          "text": [
            "The dataframe is 6.536016 MB\n"
          ]
        }
      ],
      "source": [
        "rdd = df.rdd._reserialize(AutoBatchedSerializer(PickleSerializer()))\n",
        "obj = rdd.ctx._jvm.org.apache.spark.mllib.api.python.SerDe.pythonToJava(rdd._jrdd, True)\n",
        "size = sc._jvm.org.apache.spark.util.SizeEstimator.estimate(obj)\n",
        "size_MB = size/1000000\n",
        "partitions = max(int(size_MB/200), 2)\n",
        "print(f'The dataframe is {size_MB} MB')"
      ]
    },
    {
      "cell_type": "markdown",
      "metadata": {
        "id": "0TWRiMH2h1jj"
      },
      "source": [
        "### Write parquet files to the local directory\n",
        "> ℹ️ **Instructions** ℹ️\n",
        ">\n",
        "> Use the **coalesce** function and the number of **partitions** derived above to write parquet files to your local directory\n",
        ">\n",
        ">*You may use as many coding cells as necessary.*"
      ]
    },
    {
      "cell_type": "code",
      "source": [
        "from google.colab import drive\n",
        "drive.mount('/content/drive')\n"
      ],
      "metadata": {
        "colab": {
          "base_uri": "https://localhost:8080/"
        },
        "id": "qcpLrZvl3Ilc",
        "outputId": "d4dc966d-4621-4f19-f120-c233861f62d7"
      },
      "execution_count": 69,
      "outputs": [
        {
          "output_type": "stream",
          "name": "stdout",
          "text": [
            "Mounted at /content/drive\n"
          ]
        }
      ]
    },
    {
      "cell_type": "code",
      "execution_count": 70,
      "metadata": {
        "id": "xhF9VOVPh1jj",
        "outputId": "f9013b52-05be-4c45-b489-d3bf2a6ed596",
        "colab": {
          "base_uri": "https://localhost:8080/"
        }
      },
      "outputs": [
        {
          "output_type": "stream",
          "name": "stdout",
          "text": [
            "The dataframe is 6.540016 MB\n"
          ]
        }
      ],
      "source": [
        "#TODO: Write your code here\n",
        "# Check the size of the dataframe before partitioning\n",
        "from pyspark.serializers import PickleSerializer, AutoBatchedSerializer\n",
        "\n",
        "rdd = df.rdd._reserialize(AutoBatchedSerializer(PickleSerializer()))\n",
        "obj = rdd.ctx._jvm.org.apache.spark.mllib.api.python.SerDe.pythonToJava(rdd._jrdd, True)\n",
        "size = sc._jvm.org.apache.spark.util.SizeEstimator.estimate(obj)\n",
        "size_MB = size / 1000000\n",
        "partitions = max(int(size_MB / 200), 2)\n",
        "print(f'The dataframe is {size_MB} MB')\n",
        "\n",
        "# Write parquet files to the local directory\n",
        "df_1962_converted.coalesce(partitions).write.parquet('/content/drive/My Drive/Processing data')\n"
      ]
    },
    {
      "cell_type": "code",
      "execution_count": null,
      "metadata": {
        "id": "7waa9H2dh1jj"
      },
      "outputs": [],
      "source": []
    }
  ],
  "metadata": {
    "celltoolbar": "Raw Cell Format",
    "interpreter": {
      "hash": "24a0a2ddc4dffcb168e507551dd24967ddc40ea2df7a72a200a74e0ae6d88beb"
    },
    "kernelspec": {
      "display_name": "Python 3",
      "name": "python3"
    },
    "language_info": {
      "codemirror_mode": {
        "name": "ipython",
        "version": 3
      },
      "file_extension": ".py",
      "mimetype": "text/x-python",
      "name": "python",
      "nbconvert_exporter": "python",
      "pygments_lexer": "ipython3",
      "version": "3.11.5"
    },
    "colab": {
      "provenance": [],
      "include_colab_link": true
    },
    "accelerator": "TPU"
  },
  "nbformat": 4,
  "nbformat_minor": 0
}