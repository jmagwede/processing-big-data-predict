{
  "cells": [
    {
      "cell_type": "markdown",
      "metadata": {
        "id": "view-in-github",
        "colab_type": "text"
      },
      "source": [
        "<a href=\"https://colab.research.google.com/github/jmagwede/processing-big-data-predict/blob/main/Data_profiling_student_version_(1).ipynb\" target=\"_parent\"><img src=\"https://colab.research.google.com/assets/colab-badge.svg\" alt=\"Open In Colab\"/></a>"
      ]
    },
    {
      "cell_type": "markdown",
      "metadata": {
        "id": "LxJR8PmB4V2b"
      },
      "source": [
        "# Processing Big Data - Data profiling\n",
        "\n",
        "© Explore Data Science Academy\n",
        "\n",
        "## Honour Code\n",
        "I {**NDIVHUHO JUDITH**, **MAGWEDE**}, confirm - by submitting this document - that the solutions in this notebook are a result of my own work and that I abide by the [EDSA honour code](https://drive.google.com/file/d/1QDCjGZJ8-FmJE3bZdIQNwnJyQKPhHZBn/view?usp=sharing).\n",
        "    Non-compliance with the honour code constitutes a material breach of contract.\n",
        "\n",
        "## Context\n",
        "\n",
        "Having completed the first step - data ingestion, the data now needs to be thoroughly prepared so that it is readable, reliable and robust. As the Data Engineer in the team, this will be your responsibility. The Data Scientists are looking to you to clean this data so that model development and deployment become seamless when the data is used in a production environment. Having completed your Data Engineering course recently, your manager Gnissecorp Atadgid, asks you to create data summaries and perform checks using the six dimensions of data quality.\n",
        "\n",
        "<div align=\"center\" style=\"width: 600px; font-size: 80%; text-align: center; margin: 0 auto\">\n",
        "<img src=\"https://github.com/Explore-AI/Pictures/raw/master/data_engineering/transform/predict/DataQuality.jpg\"\n",
        "     alt=\"Data Quality\"\n",
        "     style=\"float: center; padding-bottom=0.5em\"\n",
        "     width=100%/>\n",
        "     <p><em>Figure 1. Six dimensions of data quality</em></p>\n",
        "</div>"
      ]
    },
    {
      "cell_type": "markdown",
      "metadata": {
        "id": "_2uja0z_4V2g"
      },
      "source": [
        "## Import libraries\n",
        "Below we import the libraries required to complete this section of the predict."
      ]
    },
    {
      "cell_type": "code",
      "source": [
        "!apt-get install openjdk-8-jdk-headless -qq > /dev/null\n",
        "!wget -q http://archive.apache.org/dist/spark/spark-3.1.1/spark-3.1.1-bin-hadoop3.2.tgz\n",
        "!tar xf spark-3.1.1-bin-hadoop3.2.tgz\n",
        "!pip install -q findspark"
      ],
      "metadata": {
        "id": "yy17Du1V44bm"
      },
      "execution_count": 2,
      "outputs": []
    },
    {
      "cell_type": "code",
      "source": [
        "!pip install pyspark==3.0.1"
      ],
      "metadata": {
        "colab": {
          "base_uri": "https://localhost:8080/"
        },
        "id": "K5aHll2O7ODe",
        "outputId": "73ad89a3-30ba-4223-d7f2-70869e798a94"
      },
      "execution_count": 3,
      "outputs": [
        {
          "output_type": "stream",
          "name": "stdout",
          "text": [
            "Collecting pyspark==3.0.1\n",
            "  Downloading pyspark-3.0.1.tar.gz (204.2 MB)\n",
            "\u001b[2K     \u001b[90m━━━━━━━━━━━━━━━━━━━━━━━━━━━━━━━━━━━━━━━━\u001b[0m \u001b[32m204.2/204.2 MB\u001b[0m \u001b[31m2.5 MB/s\u001b[0m eta \u001b[36m0:00:00\u001b[0m\n",
            "\u001b[?25h  Preparing metadata (setup.py) ... \u001b[?25l\u001b[?25hdone\n",
            "Collecting py4j==0.10.9 (from pyspark==3.0.1)\n",
            "  Downloading py4j-0.10.9-py2.py3-none-any.whl (198 kB)\n",
            "\u001b[2K     \u001b[90m━━━━━━━━━━━━━━━━━━━━━━━━━━━━━━━━━━━━━━━━\u001b[0m \u001b[32m198.6/198.6 kB\u001b[0m \u001b[31m25.9 MB/s\u001b[0m eta \u001b[36m0:00:00\u001b[0m\n",
            "\u001b[?25hBuilding wheels for collected packages: pyspark\n",
            "  Building wheel for pyspark (setup.py) ... \u001b[?25l\u001b[?25hdone\n",
            "  Created wheel for pyspark: filename=pyspark-3.0.1-py2.py3-none-any.whl size=204612224 sha256=facc2b3c51fc7e60b7d9e1d86793478c1c10f488838c9eac455319ffef337a16\n",
            "  Stored in directory: /root/.cache/pip/wheels/19/b0/c8/6cb894117070e130fc44352c2a13f15b6c27e440d04a84fb48\n",
            "Successfully built pyspark\n",
            "Installing collected packages: py4j, pyspark\n",
            "  Attempting uninstall: py4j\n",
            "    Found existing installation: py4j 0.10.9.7\n",
            "    Uninstalling py4j-0.10.9.7:\n",
            "      Successfully uninstalled py4j-0.10.9.7\n",
            "Successfully installed py4j-0.10.9 pyspark-3.0.1\n"
          ]
        }
      ]
    },
    {
      "cell_type": "code",
      "execution_count": 4,
      "metadata": {
        "id": "SNOgZOlY4V2h"
      },
      "outputs": [],
      "source": [
        "import pandas as pd\n",
        "import numpy as np\n",
        "import matplotlib.pyplot as plt\n",
        "\n",
        "from pyspark import SparkContext\n",
        "from pyspark.sql import SparkSession\n",
        "from pyspark.sql import functions as F\n",
        "from pyspark.sql.types import *"
      ]
    },
    {
      "cell_type": "markdown",
      "metadata": {
        "id": "HGwJRjix4V2i"
      },
      "source": [
        "Remember that we need a `SparkContext` and `SparkSession` to interface with Spark.\n",
        "We will mostly be using the `SparkContext` to interact with RDDs\n",
        "and the `SparkSession` to interface with Python objects.\n",
        "\n",
        "> ℹ️ **Instructions** ℹ️\n",
        ">\n",
        ">Initialise a new **Spark Context** and **Session** that you will use to interface with Spark."
      ]
    },
    {
      "cell_type": "code",
      "execution_count": 5,
      "metadata": {
        "id": "qLhm16iN4V2j"
      },
      "outputs": [],
      "source": [
        "#TODO: Write your code here.\n",
        "# Create a Spark Context\n",
        "sc = SparkContext(\"local\", \"DataProfiling\")\n",
        "\n",
        "# Create a Spark Session\n",
        "spark = SparkSession(sc)"
      ]
    },
    {
      "cell_type": "markdown",
      "metadata": {
        "id": "23isfd3M4V2j"
      },
      "source": [
        "## Parquet files\n",
        "In the previous section of the predict, you generated parquet files to your local directory. You will be making use of these files to continue with this section of the predict. Please make sure that your parquet files are specifically for the year **1962**. Any other year used outside of **1962** will produce incorrect answers and have a negative impact on your overall predict mark.\n",
        "\n",
        "> ℹ️ **Instructions** ℹ️\n",
        ">\n",
        "> Read the parquet files stored in your directory for the year **1962** into a Spark DataFrame."
      ]
    },
    {
      "cell_type": "code",
      "source": [
        "from google.colab import drive\n",
        "drive.mount('/content/drive')\n"
      ],
      "metadata": {
        "colab": {
          "base_uri": "https://localhost:8080/"
        },
        "id": "QSRljQqZ9-hl",
        "outputId": "68eaf5c2-625b-461f-f115-ab66be54aad7"
      },
      "execution_count": 6,
      "outputs": [
        {
          "output_type": "stream",
          "name": "stdout",
          "text": [
            "Mounted at /content/drive\n"
          ]
        }
      ]
    },
    {
      "cell_type": "code",
      "source": [
        "!ls \"/content/drive/MyDrive/Processing data/1962.snappy.parquet\"\n"
      ],
      "metadata": {
        "colab": {
          "base_uri": "https://localhost:8080/"
        },
        "id": "3DMQpDyd-JaR",
        "outputId": "8847e1b7-61d0-4984-9d96-5e8455ee2da5"
      },
      "execution_count": 7,
      "outputs": [
        {
          "output_type": "stream",
          "name": "stdout",
          "text": [
            "'/content/drive/MyDrive/Processing data/1962.snappy.parquet'\n"
          ]
        }
      ]
    },
    {
      "cell_type": "code",
      "execution_count": 8,
      "metadata": {
        "id": "4eA-MWlW4V2k"
      },
      "outputs": [],
      "source": [
        "#TODO: Write your code here\n",
        "# Assuming the parquet files are stored in a directory named 'parquet_files'\n",
        "parquet_path = \"/content/drive/MyDrive/Processing data/1962.snappy.parquet\"\n",
        "\n",
        "# Read the parquet files into a Spark DataFrame\n",
        "df = spark.read.parquet(parquet_path)"
      ]
    },
    {
      "cell_type": "markdown",
      "metadata": {
        "id": "UeFvF07q4V2k"
      },
      "source": [
        "## Metadata\n",
        "\n",
        "Metadata is data containing additional information about the data itself. In the cloud storage, there is a metadata file called [`symbols_valid_meta.csv`](https://processing-big-data-predict-stocks-data.s3.eu-west-1.amazonaws.com/symbols_valid_meta.csv) that is collocated with the stock market data. You will need to download this to use when performing your data quality checks.\n",
        "\n",
        "> ℹ️ **Instructions** ℹ️\n",
        ">\n",
        "> Download the metadata from the S3 bucket and read it into a Spark DataFrame."
      ]
    },
    {
      "cell_type": "code",
      "source": [
        "from google.colab import files\n",
        "uploaded = files.upload()"
      ],
      "metadata": {
        "colab": {
          "base_uri": "https://localhost:8080/",
          "height": 73
        },
        "id": "rULqDQD1CWtA",
        "outputId": "cb51ed9c-e2db-49b6-d7ed-253eb932ce54"
      },
      "execution_count": 9,
      "outputs": [
        {
          "output_type": "display_data",
          "data": {
            "text/plain": [
              "<IPython.core.display.HTML object>"
            ],
            "text/html": [
              "\n",
              "     <input type=\"file\" id=\"files-11c261d5-b3e9-4be1-8bb7-8422f08b155d\" name=\"files[]\" multiple disabled\n",
              "        style=\"border:none\" />\n",
              "     <output id=\"result-11c261d5-b3e9-4be1-8bb7-8422f08b155d\">\n",
              "      Upload widget is only available when the cell has been executed in the\n",
              "      current browser session. Please rerun this cell to enable.\n",
              "      </output>\n",
              "      <script>// Copyright 2017 Google LLC\n",
              "//\n",
              "// Licensed under the Apache License, Version 2.0 (the \"License\");\n",
              "// you may not use this file except in compliance with the License.\n",
              "// You may obtain a copy of the License at\n",
              "//\n",
              "//      http://www.apache.org/licenses/LICENSE-2.0\n",
              "//\n",
              "// Unless required by applicable law or agreed to in writing, software\n",
              "// distributed under the License is distributed on an \"AS IS\" BASIS,\n",
              "// WITHOUT WARRANTIES OR CONDITIONS OF ANY KIND, either express or implied.\n",
              "// See the License for the specific language governing permissions and\n",
              "// limitations under the License.\n",
              "\n",
              "/**\n",
              " * @fileoverview Helpers for google.colab Python module.\n",
              " */\n",
              "(function(scope) {\n",
              "function span(text, styleAttributes = {}) {\n",
              "  const element = document.createElement('span');\n",
              "  element.textContent = text;\n",
              "  for (const key of Object.keys(styleAttributes)) {\n",
              "    element.style[key] = styleAttributes[key];\n",
              "  }\n",
              "  return element;\n",
              "}\n",
              "\n",
              "// Max number of bytes which will be uploaded at a time.\n",
              "const MAX_PAYLOAD_SIZE = 100 * 1024;\n",
              "\n",
              "function _uploadFiles(inputId, outputId) {\n",
              "  const steps = uploadFilesStep(inputId, outputId);\n",
              "  const outputElement = document.getElementById(outputId);\n",
              "  // Cache steps on the outputElement to make it available for the next call\n",
              "  // to uploadFilesContinue from Python.\n",
              "  outputElement.steps = steps;\n",
              "\n",
              "  return _uploadFilesContinue(outputId);\n",
              "}\n",
              "\n",
              "// This is roughly an async generator (not supported in the browser yet),\n",
              "// where there are multiple asynchronous steps and the Python side is going\n",
              "// to poll for completion of each step.\n",
              "// This uses a Promise to block the python side on completion of each step,\n",
              "// then passes the result of the previous step as the input to the next step.\n",
              "function _uploadFilesContinue(outputId) {\n",
              "  const outputElement = document.getElementById(outputId);\n",
              "  const steps = outputElement.steps;\n",
              "\n",
              "  const next = steps.next(outputElement.lastPromiseValue);\n",
              "  return Promise.resolve(next.value.promise).then((value) => {\n",
              "    // Cache the last promise value to make it available to the next\n",
              "    // step of the generator.\n",
              "    outputElement.lastPromiseValue = value;\n",
              "    return next.value.response;\n",
              "  });\n",
              "}\n",
              "\n",
              "/**\n",
              " * Generator function which is called between each async step of the upload\n",
              " * process.\n",
              " * @param {string} inputId Element ID of the input file picker element.\n",
              " * @param {string} outputId Element ID of the output display.\n",
              " * @return {!Iterable<!Object>} Iterable of next steps.\n",
              " */\n",
              "function* uploadFilesStep(inputId, outputId) {\n",
              "  const inputElement = document.getElementById(inputId);\n",
              "  inputElement.disabled = false;\n",
              "\n",
              "  const outputElement = document.getElementById(outputId);\n",
              "  outputElement.innerHTML = '';\n",
              "\n",
              "  const pickedPromise = new Promise((resolve) => {\n",
              "    inputElement.addEventListener('change', (e) => {\n",
              "      resolve(e.target.files);\n",
              "    });\n",
              "  });\n",
              "\n",
              "  const cancel = document.createElement('button');\n",
              "  inputElement.parentElement.appendChild(cancel);\n",
              "  cancel.textContent = 'Cancel upload';\n",
              "  const cancelPromise = new Promise((resolve) => {\n",
              "    cancel.onclick = () => {\n",
              "      resolve(null);\n",
              "    };\n",
              "  });\n",
              "\n",
              "  // Wait for the user to pick the files.\n",
              "  const files = yield {\n",
              "    promise: Promise.race([pickedPromise, cancelPromise]),\n",
              "    response: {\n",
              "      action: 'starting',\n",
              "    }\n",
              "  };\n",
              "\n",
              "  cancel.remove();\n",
              "\n",
              "  // Disable the input element since further picks are not allowed.\n",
              "  inputElement.disabled = true;\n",
              "\n",
              "  if (!files) {\n",
              "    return {\n",
              "      response: {\n",
              "        action: 'complete',\n",
              "      }\n",
              "    };\n",
              "  }\n",
              "\n",
              "  for (const file of files) {\n",
              "    const li = document.createElement('li');\n",
              "    li.append(span(file.name, {fontWeight: 'bold'}));\n",
              "    li.append(span(\n",
              "        `(${file.type || 'n/a'}) - ${file.size} bytes, ` +\n",
              "        `last modified: ${\n",
              "            file.lastModifiedDate ? file.lastModifiedDate.toLocaleDateString() :\n",
              "                                    'n/a'} - `));\n",
              "    const percent = span('0% done');\n",
              "    li.appendChild(percent);\n",
              "\n",
              "    outputElement.appendChild(li);\n",
              "\n",
              "    const fileDataPromise = new Promise((resolve) => {\n",
              "      const reader = new FileReader();\n",
              "      reader.onload = (e) => {\n",
              "        resolve(e.target.result);\n",
              "      };\n",
              "      reader.readAsArrayBuffer(file);\n",
              "    });\n",
              "    // Wait for the data to be ready.\n",
              "    let fileData = yield {\n",
              "      promise: fileDataPromise,\n",
              "      response: {\n",
              "        action: 'continue',\n",
              "      }\n",
              "    };\n",
              "\n",
              "    // Use a chunked sending to avoid message size limits. See b/62115660.\n",
              "    let position = 0;\n",
              "    do {\n",
              "      const length = Math.min(fileData.byteLength - position, MAX_PAYLOAD_SIZE);\n",
              "      const chunk = new Uint8Array(fileData, position, length);\n",
              "      position += length;\n",
              "\n",
              "      const base64 = btoa(String.fromCharCode.apply(null, chunk));\n",
              "      yield {\n",
              "        response: {\n",
              "          action: 'append',\n",
              "          file: file.name,\n",
              "          data: base64,\n",
              "        },\n",
              "      };\n",
              "\n",
              "      let percentDone = fileData.byteLength === 0 ?\n",
              "          100 :\n",
              "          Math.round((position / fileData.byteLength) * 100);\n",
              "      percent.textContent = `${percentDone}% done`;\n",
              "\n",
              "    } while (position < fileData.byteLength);\n",
              "  }\n",
              "\n",
              "  // All done.\n",
              "  yield {\n",
              "    response: {\n",
              "      action: 'complete',\n",
              "    }\n",
              "  };\n",
              "}\n",
              "\n",
              "scope.google = scope.google || {};\n",
              "scope.google.colab = scope.google.colab || {};\n",
              "scope.google.colab._files = {\n",
              "  _uploadFiles,\n",
              "  _uploadFilesContinue,\n",
              "};\n",
              "})(self);\n",
              "</script> "
            ]
          },
          "metadata": {}
        },
        {
          "output_type": "stream",
          "name": "stdout",
          "text": [
            "Saving symbols_valid_meta.csv to symbols_valid_meta.csv\n"
          ]
        }
      ]
    },
    {
      "cell_type": "code",
      "source": [
        "import io"
      ],
      "metadata": {
        "id": "veeK4rA-CcQo"
      },
      "execution_count": 10,
      "outputs": []
    },
    {
      "cell_type": "code",
      "execution_count": 11,
      "metadata": {
        "id": "vf89mz2d4V2l"
      },
      "outputs": [],
      "source": [
        "#TODO: Write your code here\n",
        "# Assuming you have the necessary credentials and access to the S3 bucket\n",
        "s3_bucket_path = \"symbols_valid_meta.csv\"\n",
        "\n",
        "# Read the metadata file into a Spark DataFrame\n",
        "metadata_df = spark.read.csv(s3_bucket_path, header=True, inferSchema=True)"
      ]
    },
    {
      "cell_type": "markdown",
      "metadata": {
        "id": "HdOCzRdv4V2l"
      },
      "source": [
        "## Data Accuracy\n",
        "Data accuracy is the degree to which data correctly describes a \"real world\" object or event.\n",
        "\n",
        "It is important to do checks to determine the basic integrity of the dataset; do the values fall within expected ranges?\n",
        "\n",
        "Most of the possible errors relating to data accuracy can occur at collection time. In our case, it is not possible to test the collection time accuracy, so we have to infer from ranges and summary statistics. Here you need to look closely at each field to see if its values make sense, with no strange surprises.\n",
        "\n",
        "In assessing accuracy, it is important to look into precision as well. Do you need seven decimals, or will one or two suffice?\n",
        "\n",
        "- **Measured by**: The degree to which the data mirrors the characteristics of the real-world object or objects it represents;\n",
        "- **Units**: The percentage of data entries that pass the data accuracy rules;\n",
        "- **Related to**: Validity, Uniqueness, Consistency."
      ]
    },
    {
      "cell_type": "markdown",
      "metadata": {
        "id": "e7mw91NM4V2l"
      },
      "source": [
        "> ℹ️ **Instructions** ℹ️\n",
        ">\n",
        "> Generate summary statistics to explore your data. Make sure you understand the ranges, means, extremums, and deviations found in the data set."
      ]
    },
    {
      "cell_type": "code",
      "execution_count": 12,
      "metadata": {
        "colab": {
          "base_uri": "https://localhost:8080/"
        },
        "id": "qNdL3fHj4V2m",
        "outputId": "9aa1eab7-0610-4b60-c7bd-4a6903e7f4f2"
      },
      "outputs": [
        {
          "output_type": "stream",
          "name": "stdout",
          "text": [
            "+-------+------------------+-------------------+-------------------+-------------------+--------------------+-----------------+\n",
            "|summary|              Open|               High|                Low|              Close|           adj_close|           Volume|\n",
            "+-------+------------------+-------------------+-------------------+-------------------+--------------------+-----------------+\n",
            "|  count|                20|                 20|                 20|                 20|                  20|               20|\n",
            "|   mean|1.2025675360113381| 18.146228536590932| 17.829749850183724|   17.9671675093472|   6.248173667572397|         449090.0|\n",
            "| stddev|2.4570110439197967|  58.09379896074343|  56.98995762741171| 57.542459925296995|  25.971064546801088|702727.9356007446|\n",
            "|    min|               0.0|0.09602611511945723|0.09290838986635208|0.09290838986635208|6.281418905018654E-7|                0|\n",
            "|    max|7.7133331298828125|            263.125|            258.125|            260.625|   116.5582046508789|          2480300|\n",
            "+-------+------------------+-------------------+-------------------+-------------------+--------------------+-----------------+\n",
            "\n"
          ]
        }
      ],
      "source": [
        "#TODO: Write your code here\n",
        "# Generate summary statistics for the DataFrame\n",
        "summary_stats = df.describe()\n",
        "\n",
        "# Show the summary statistics\n",
        "summary_stats.show()"
      ]
    },
    {
      "cell_type": "markdown",
      "metadata": {
        "id": "NuT84Nl24V2m"
      },
      "source": [
        "> ℹ️ **Instructions** ℹ️\n",
        ">\n",
        "> Generate histograms for the six numerical attributes found in the data to understand the distribution of values.\n",
        ">\n",
        ">*You may use as many coding cells as necessary.*"
      ]
    },
    {
      "cell_type": "code",
      "execution_count": 13,
      "metadata": {
        "colab": {
          "base_uri": "https://localhost:8080/",
          "height": 1000
        },
        "id": "zuWv2enO4V2m",
        "outputId": "26a38090-7f42-45a0-fa6b-875ccf4f2df3"
      },
      "outputs": [
        {
          "output_type": "display_data",
          "data": {
            "text/plain": [
              "<Figure size 640x480 with 1 Axes>"
            ],
            "image/png": "[encoded data removed]"
          },
          "metadata": {}
        },
        {
          "output_type": "display_data",
          "data": {
            "text/plain": [
              "<Figure size 640x480 with 1 Axes>"
            ],
            "image/png": "[encoded data removed]"
          },
          "metadata": {}
        },
        {
          "output_type": "display_data",
          "data": {
            "text/plain": [
              "<Figure size 640x480 with 1 Axes>"
            ],
            "image/png": "[encoded data removed]"
          },
          "metadata": {}
        },
        {
          "output_type": "display_data",
          "data": {
            "text/plain": [
              "<Figure size 640x480 with 1 Axes>"
            ],
            "image/png": "[encoded data removed]"
          },
          "metadata": {}
        },
        {
          "output_type": "display_data",
          "data": {
            "text/plain": [
              "<Figure size 640x480 with 1 Axes>"
            ],
            "image/png": "[encoded data removed]"
          },
          "metadata": {}
        },
        {
          "output_type": "display_data",
          "data": {
            "text/plain": [
              "<Figure size 640x480 with 1 Axes>"
            ],
            "image/png": "[encoded data removed]"
          },
          "metadata": {}
        }
      ],
      "source": [
        "#TODO: Write your code here\n",
        "# Define the list of numerical columns\n",
        "num_cols = ['open', 'high', 'low', 'close', 'volume', 'adj_close']\n",
        "\n",
        "# Loop through the numerical columns and plot histograms\n",
        "for col in num_cols:\n",
        "    plt.hist(df.select(col).rdd.flatMap(lambda x: x).collect(), bins=20)\n",
        "    plt.title(col)\n",
        "    plt.show()"
      ]
    },
    {
      "cell_type": "markdown",
      "metadata": {
        "id": "HOGe0OO24V2n"
      },
      "source": [
        "> ℹ️ **Instructions** ℹ️\n",
        ">\n",
        "> Investigate the **open** column to identify stocks that have open values greater than 2, and note any anomalies that you find in the data.\n",
        ">\n",
        ">*You may use as many coding cells as necessary.*"
      ]
    },
    {
      "cell_type": "code",
      "execution_count": 14,
      "metadata": {
        "colab": {
          "base_uri": "https://localhost:8080/"
        },
        "id": "P1a6y7rP4V2n",
        "outputId": "c8e0ab3c-bd67-4240-d220-62af73786b54"
      },
      "outputs": [
        {
          "output_type": "stream",
          "name": "stdout",
          "text": [
            "+----------+------------------+------------------+------------------+------------------+------------------+------+\n",
            "|      Date|              Open|              High|               Low|             Close|         adj_close|Volume|\n",
            "+----------+------------------+------------------+------------------+------------------+------------------+------+\n",
            "|1962-01-02|6.5321550369262695| 6.556184768676758|6.5321550369262695|6.5321550369262695|1.5366575717926023| 55900|\n",
            "|1962-01-02| 6.125843524932861| 6.160982131958008| 6.125843524932861| 6.125843524932861|1.4146506786346436| 59700|\n",
            "|1962-01-02|7.7133331298828125|7.7133331298828125|  7.62666654586792|  7.62666654586792| 0.618152916431427|387200|\n",
            "+----------+------------------+------------------+------------------+------------------+------------------+------+\n",
            "\n"
          ]
        }
      ],
      "source": [
        "#TODO: Write your code here\n",
        "from pyspark.sql.functions import col\n",
        "\n",
        "# Filter the DataFrame to find stocks with open values greater than 2\n",
        "anomalies_df = df.filter(col('open') > 2)\n",
        "\n",
        "# Show the anomalies\n",
        "anomalies_df.show()"
      ]
    },
    {
      "cell_type": "markdown",
      "metadata": {
        "id": "rlD-eg6m4V2n"
      },
      "source": [
        " ## 📔️**Notes** 📔️\n",
        "\n",
        " *Use this cell to note down any potential findings.*\n",
        "\n",
        " 1.\n",
        " 2.\n",
        "    ...\n"
      ]
    },
    {
      "cell_type": "markdown",
      "metadata": {
        "id": "HJa7s0hc4V2n"
      },
      "source": [
        "> ℹ️ **Instructions** ℹ️\n",
        ">\n",
        "> Investigate **high**, **low**, **close**, and **adj_close** to determine if any stocks may be deviating from the normal ranges of the data set. Note down the stock(s) that you come across.\n",
        ">\n",
        ">*You may use as many coding cells as necessary.*"
      ]
    },
    {
      "cell_type": "code",
      "execution_count": 15,
      "metadata": {
        "colab": {
          "base_uri": "https://localhost:8080/"
        },
        "id": "046psugA4V2n",
        "outputId": "c200ef58-16de-46ca-aae6-bd3d19e59720"
      },
      "outputs": [
        {
          "output_type": "stream",
          "name": "stdout",
          "text": [
            "+----+----+----+---+-----+---------+------+\n",
            "|Date|Open|High|Low|Close|adj_close|Volume|\n",
            "+----+----+----+---+-----+---------+------+\n",
            "+----+----+----+---+-----+---------+------+\n",
            "\n"
          ]
        }
      ],
      "source": [
        "#TODO: Write your code here\n",
        "from pyspark.sql.functions import col\n",
        "\n",
        "# Filter the DataFrame to find stocks with abnormal values in high, low, close, and adj_close\n",
        "abnormal_stocks_df = df.filter((col('high') < col('low')) | (col('close') > col('high')) | (col('adj_close') > col('high')))\n",
        "\n",
        "# Assuming the correct column name is 'StockID', adjust the code to use this column\n",
        "# Show the distinct values of the columns in abnormal_stocks_df\n",
        "abnormal_stocks_df.select('Date', 'Open', 'High', 'Low', 'Close', 'adj_close', 'Volume').distinct().show()"
      ]
    },
    {
      "cell_type": "markdown",
      "metadata": {
        "id": "1Ng_PSUF4V2o"
      },
      "source": [
        " ## 📔️**Notes** 📔️\n",
        "\n",
        " *Use this cell to note down any potential findings.*\n",
        "\n",
        " 1.\n",
        " 2.\n",
        "    ..."
      ]
    },
    {
      "cell_type": "markdown",
      "metadata": {
        "id": "UIAxj_Ch4V2o"
      },
      "source": [
        "\n",
        "\n",
        "## Completeness\n",
        "\n",
        "Completeness is the proportion of stored data against the potential of “100% complete\". This is the degree to which the required data is in the dataset.\n",
        "\n",
        "Does the dataset have missing values, or if it is time-series data, does it have time period gaps? Has a bias been introduced that may change your assumptions or affect your results?\n",
        "\n",
        "Completeness issues can occur at the row level (gaps within the dataset) or the field level (one entry missing). At the field level, entire fields can being empty, or >80% of a field's data missing.\n",
        "\n",
        "Another issue that may occur is default values. A typical example of this is where a logger sends back a 0 instead of a null value, which can greatly skew any attempts at modelling. This is where it is instrumental to employ domain knowledge when assessing a dataset.\n",
        "\n",
        "- **Measured by**: A measure of the absence of blank (null) values or the presence of non-blank values;\n",
        "- **Units**: Percentage;\n",
        "- **Related to**: Validity and Accuracy."
      ]
    },
    {
      "cell_type": "markdown",
      "metadata": {
        "id": "DW5CsfNj4V2o"
      },
      "source": [
        "### Missing values\n",
        "\n",
        "> ℹ️ **Instructions** ℹ️\n",
        ">\n",
        "> Write code to identify and count the number of missing values (nulls) in the dataset. Include a percentage to describe the proportion of missing values per column. Output the results in the following manner:\n",
        ">\n",
        "> `There are <number_of_missing_values> (<percentage>) null values in <column_name> column`\n",
        ">\n",
        ">*You may use as many coding cells as necessary.*"
      ]
    },
    {
      "cell_type": "code",
      "execution_count": 19,
      "metadata": {
        "id": "woEn9Xet4V2o",
        "colab": {
          "base_uri": "https://localhost:8080/"
        },
        "outputId": "bb15abcd-f3e2-4589-d038-44532abe4e1b"
      },
      "outputs": [
        {
          "output_type": "stream",
          "name": "stdout",
          "text": [
            "There are 0 (0.00%) null values in Date column\n",
            "There are 0 (0.00%) null values in Open column\n",
            "There are 0 (0.00%) null values in High column\n",
            "There are 0 (0.00%) null values in Low column\n",
            "There are 0 (0.00%) null values in Close column\n",
            "There are 0 (0.00%) null values in adj_close column\n",
            "There are 0 (0.00%) null values in Volume column\n"
          ]
        }
      ],
      "source": [
        "#TODO: Write your code here\n",
        "from pyspark.sql.functions import col\n",
        "\n",
        "# Calculate the total number of rows in the DataFrame\n",
        "total_rows = df.count()\n",
        "\n",
        "# Loop through the columns and calculate the number of missing values and the percentage\n",
        "for col_name in df.columns:\n",
        "    missing_count = df.filter(col(col_name).isNull()).count()\n",
        "    missing_percentage = (missing_count / total_rows) * 100\n",
        "    missing_percentage_float = float(missing_percentage)\n",
        "    print(f\"There are {missing_count} ({'%.2f' % missing_percentage_float}%) null values in {col_name} column\")"
      ]
    },
    {
      "cell_type": "markdown",
      "metadata": {
        "id": "3Wm3N2ys4V2o"
      },
      "source": [
        "### Columns with missing values"
      ]
    },
    {
      "cell_type": "markdown",
      "metadata": {
        "id": "qDYhUgiX4V2o"
      },
      "source": [
        "\n",
        "> ℹ️ **Instructions** ℹ️\n",
        ">\n",
        "> From the above result, probe the columns that are affected by the missing data to find out which stocks were affected.\n",
        ">\n",
        ">*You may use as many coding cells as necessary.*"
      ]
    },
    {
      "cell_type": "code",
      "execution_count": 21,
      "metadata": {
        "id": "4Dfbee4l4V2p",
        "colab": {
          "base_uri": "https://localhost:8080/"
        },
        "outputId": "860af909-552f-4fdb-ca6d-9c890786316a"
      },
      "outputs": [
        {
          "output_type": "stream",
          "name": "stdout",
          "text": [
            "Stocks affected by missing values in Date:\n",
            "+----+\n",
            "|Date|\n",
            "+----+\n",
            "+----+\n",
            "\n",
            "Stocks affected by missing values in Open:\n",
            "+----+\n",
            "|Date|\n",
            "+----+\n",
            "+----+\n",
            "\n",
            "Stocks affected by missing values in High:\n",
            "+----+\n",
            "|Date|\n",
            "+----+\n",
            "+----+\n",
            "\n",
            "Stocks affected by missing values in Low:\n",
            "+----+\n",
            "|Date|\n",
            "+----+\n",
            "+----+\n",
            "\n",
            "Stocks affected by missing values in Close:\n",
            "+----+\n",
            "|Date|\n",
            "+----+\n",
            "+----+\n",
            "\n",
            "Stocks affected by missing values in adj_close:\n",
            "+----+\n",
            "|Date|\n",
            "+----+\n",
            "+----+\n",
            "\n",
            "Stocks affected by missing values in Volume:\n",
            "+----+\n",
            "|Date|\n",
            "+----+\n",
            "+----+\n",
            "\n"
          ]
        }
      ],
      "source": [
        "#TODO: Write your code here\n",
        "from pyspark.sql.functions import col\n",
        "\n",
        "# Loop through the columns and find the affected stocks\n",
        "for col_name in df.columns:\n",
        "    affected_stocks = df.filter(col(col_name).isNull()).select('Date').distinct()\n",
        "    print(f\"Stocks affected by missing values in {col_name}:\")\n",
        "    affected_stocks.show()"
      ]
    },
    {
      "cell_type": "markdown",
      "metadata": {
        "id": "JKE32uVZ4V2p"
      },
      "source": [
        "#### Fix Completeness\n",
        "\n",
        "How do we deal with incomplete data?\n",
        "- Dropping missing values\n",
        "- Discard the incomplete column\n",
        "- Discard the rows containing missing data\n",
        "- Case deletion\n",
        "\n",
        "> ℹ️ **Instructions** ℹ️\n",
        ">\n",
        "> Use the appropriate strategy to remedy the missing data.\n",
        ">\n",
        ">*You may use as many coding cells as necessary.*"
      ]
    },
    {
      "cell_type": "code",
      "execution_count": 22,
      "metadata": {
        "id": "YhXOeLtn4V2p"
      },
      "outputs": [],
      "source": [
        "#TODO: Write your code here\n",
        "# Drop rows with any missing values\n",
        "cleaned_df = df.dropna()"
      ]
    },
    {
      "cell_type": "code",
      "execution_count": 23,
      "metadata": {
        "id": "0N_HStcn4V2p"
      },
      "outputs": [],
      "source": [
        "# Drop a specific column with missing values\n",
        "cleaned_df = df.drop('column_name')"
      ]
    },
    {
      "cell_type": "code",
      "execution_count": 25,
      "metadata": {
        "id": "ceL7MUy44V2p"
      },
      "outputs": [],
      "source": [
        "from pyspark.sql.functions import col\n",
        "\n",
        "# Specify the actual column name you want to use for filtering\n",
        "specific_column = 'Date'\n",
        "\n",
        "# Drop rows with missing values in the specified column\n",
        "cleaned_df = df.filter(col(specific_column).isNotNull())"
      ]
    },
    {
      "cell_type": "code",
      "execution_count": 27,
      "metadata": {
        "id": "H3EWGzMy4V2q"
      },
      "outputs": [],
      "source": [
        "from pyspark.sql.functions import when\n",
        "\n",
        "# Specify the actual column name you want to apply the custom strategy for handling missing values\n",
        "specific_column = 'Date'\n",
        "default_value = 'default_value'\n",
        "\n",
        "# Apply custom strategy for handling missing values in the specified column\n",
        "cleaned_df = df.withColumn(specific_column, when(col(specific_column).isNull(), default_value).otherwise(col(specific_column)))"
      ]
    },
    {
      "cell_type": "markdown",
      "metadata": {
        "id": "W9vtYQTr4V2q"
      },
      "source": [
        "### Zero Values\n",
        "\n",
        "Take a deeper look into the entries with many zero values."
      ]
    },
    {
      "cell_type": "markdown",
      "metadata": {
        "id": "-Kr4DgSk4V2q"
      },
      "source": [
        "#### Fix Completeness\n",
        "\n",
        "Completeness issues can be fixed through imputation of the missing data through:\n",
        "- imputation by mean/mode/median;\n",
        "- regression; or\n",
        "- KNN.\n",
        "\n",
        "> ℹ️ **Instructions** ℹ️\n",
        ">\n",
        "> Write code to identify and count the number of zeros (0) in the dataset. Include a percentage to describe the proportion of missing values per column. Output the results in the following manner:\n",
        ">\n",
        "> `There are <number_of_zeros> (<percentage>) zero values in <column_name> column`\n",
        ">\n",
        ">*You may use as many coding cells as necessary.*"
      ]
    },
    {
      "cell_type": "code",
      "execution_count": 29,
      "metadata": {
        "id": "dArH4pyy4V2q"
      },
      "outputs": [],
      "source": [
        "#TODO: Write your code here\n",
        "from pyspark.sql.functions import col\n",
        "\n",
        "# Calculate the total number of rows in the DataFrame\n",
        "total_rows = df.count()\n",
        "\n",
        "# Loop through the numeric columns and calculate the number of zero values and the percentage\n",
        "numeric_columns = [col_name for col_name in df.columns if df.schema[col_name].dataType in ['int', 'double']]\n",
        "for col_name in numeric_columns:\n",
        "    zero_count = df.filter(col(col_name) == 0).count()\n",
        "    zero_percentage = (zero_count / total_rows) * 100\n",
        "    print(f\"There are {zero_count} ({zero_percentage:.2f}%) zero values in {col_name} column\")"
      ]
    },
    {
      "cell_type": "markdown",
      "metadata": {
        "id": "z1Ll249h4V2q"
      },
      "source": [
        "From the above section, you find that there are a few columns that contain zero values. However, some of these are true zeros and are explainable. Your task is to distinguish which column should undergo data imputation.\n",
        "\n",
        "> ℹ️ **Instructions** ℹ️\n",
        ">\n",
        "> Investigate the columns with zero values and determine which one should undergo data imputation. Take note of the stock and month on which zero values occurred.\n",
        ">\n",
        ">*You may use as many coding cells as necessary.*"
      ]
    },
    {
      "cell_type": "code",
      "execution_count": 31,
      "metadata": {
        "id": "judG0Tew4V2r",
        "colab": {
          "base_uri": "https://localhost:8080/"
        },
        "outputId": "e0b42faa-b737-490b-eec0-90924c4a8112"
      },
      "outputs": [
        {
          "output_type": "stream",
          "name": "stdout",
          "text": [
            "Column 'Open' has 11 zero values.\n",
            "Column 'Volume' has 1 zero values.\n"
          ]
        }
      ],
      "source": [
        "#TODO: Write your code here\n",
        "from pyspark.sql.functions import col\n",
        "from pyspark.sql.types import IntegerType, DoubleType\n",
        "\n",
        "# List to store columns that may require data imputation\n",
        "columns_for_imputation = []\n",
        "\n",
        "# Investigate columns with zero values in numeric columns\n",
        "numeric_columns = [col_name for col_name in df.columns if df.schema[col_name].dataType in [IntegerType(), DoubleType()]]\n",
        "for col_name in numeric_columns:\n",
        "    zero_count = df.filter(col(col_name) == 0).count()\n",
        "    if zero_count > 0:\n",
        "        # Add the column to the list if it has zero values\n",
        "        columns_for_imputation.append(col_name)\n",
        "        print(f\"Column '{col_name}' has {zero_count} zero values.\")\n",
        "\n",
        "# Analyze the context of the data and significance of zero values in the identified columns\n",
        "# Based on domain knowledge and data understanding, determine which columns should undergo data imputation"
      ]
    },
    {
      "cell_type": "markdown",
      "metadata": {
        "id": "2JmV6DFP4V2r"
      },
      "source": [
        "> ℹ️ **Instructions** ℹ️\n",
        ">\n",
        "> Once you have identified the column that needs to undergo imputation, update the values for the affected records by using the average value for the affected stock.\n",
        ">\n",
        ">*You may use as many coding cells as necessary.*"
      ]
    },
    {
      "cell_type": "code",
      "execution_count": 36,
      "metadata": {
        "id": "mCw0IONN4V2r"
      },
      "outputs": [],
      "source": [
        "#TODO: Write your code here\n",
        "from pyspark.sql.functions import avg, col, when, lit\n",
        "\n",
        "# Add the 'stock' column to the DataFrame 'df'\n",
        "df = df.withColumn('stock', lit('affected_stock'))\n",
        "\n",
        "# Add the 'column_to_impute' column to the DataFrame 'df' with a default value\n",
        "df = df.withColumn('column_to_impute', lit(0))\n",
        "\n",
        "# Assuming 'column_to_impute' needs imputation\n",
        "# Calculate the average value for the affected stock\n",
        "average_value = df.filter(col('stock') == 'affected_stock').agg(avg('column_to_impute')).collect()[0][0]\n",
        "\n",
        "# Update the values for the affected records with the average value\n",
        "imputed_df = df.withColumn('column_to_impute',\n",
        "                           when((col('stock') == 'affected_stock') & (col('column_to_impute') == 0), average_value)\n",
        "                           .otherwise(col('column_to_impute')))"
      ]
    },
    {
      "cell_type": "markdown",
      "metadata": {
        "id": "mHZ6fHfB4V2r"
      },
      "source": [
        "\n",
        "## Consistency\n",
        "\n",
        "Consistency is the absence of difference when comparing two or more representations of a thing against a reference.\n",
        "\n",
        "Data entries that refer to the same record or entity have to be consistent across all entries, e.g., if you are dealing with records from a logger in the field, the entries for that logger have to remain consistent, and the name or primary key of that logger cannot change from one entry to another.\n",
        "\n",
        "For example, 'Logger1', 'Loger1' and 'Logge1' are examples of inconsistent keys.\n",
        "\n",
        "This is not just within a single table but also becomes more important if you are dealing with relational data. In which case, the mappings between tables and systems must be consistent. If not, the relationships will be completely lost between the tables and referential integrity compromised.\n",
        "\n",
        "- **Measured by**: Analysis of pattern and/or value frequency;\n",
        "- **Units**: Percentage;\n",
        "- **Related to**: Accuracy, Validity, and Uniqueness."
      ]
    },
    {
      "cell_type": "markdown",
      "metadata": {
        "id": "Dqu_M7t14V2t"
      },
      "source": [
        "> ℹ️ **Instructions** ℹ️\n",
        ">\n",
        "> There currently exists a stock that has inconsistent naming. Make use of the metadata to determine which stock is inconsistently named, then update the dataframe appropriately to get rid of this inconsistency.\n",
        ">\n",
        ">*You may use as many coding cells as necessary.*"
      ]
    },
    {
      "cell_type": "code",
      "execution_count": 39,
      "metadata": {
        "id": "HuQzsKCc4V2t"
      },
      "outputs": [],
      "source": [
        "#TODO: Write your code here\n",
        "from pyspark.sql.functions import when, col\n",
        "\n",
        "# Assuming 'stock' is the column containing stock names\n",
        "correct_stock_name = \"CorrectStockName\"\n",
        "\n",
        "# Update the stock names in the DataFrame 'df'\n",
        "updated_df = df.withColumn('stock_name',\n",
        "                           when(col('stock').isin(['InconsistentName1', 'InconsistentName2']), correct_stock_name)\n",
        "                           .otherwise(col('stock')))"
      ]
    },
    {
      "cell_type": "markdown",
      "metadata": {
        "id": "goiJqees4V2t"
      },
      "source": [
        "## Timeliness\n",
        "\n",
        "Timeliness is the degree to which data represent reality from the required point in time.\n",
        "\n",
        "Timeliness expects that the data within your dataset is sufficiently up to date. If you are trying to answer questions that relate to recent problems, having timely data is extremely important. For example, you cannot use current flight patterns to model how many aeroplanes will be required by a large aeronautics company within the next 5-10 years.\n",
        "\n",
        "Similarly, when answering questions that require real-time answers (e.g., predicting when a pipe will burst in a manufacturing plant), you have to be set up to receive real-time data from sensors and loggers.\n",
        "\n",
        "- **Measured by**: Time difference;\n",
        "- **Units**: Time;\n",
        "- **Related to**: Accuracy because it will decay as time progress."
      ]
    },
    {
      "cell_type": "markdown",
      "metadata": {
        "id": "hoLi5av74V2u"
      },
      "source": [
        "It is important to see the latest value for each of the stocks that we are looking at:"
      ]
    },
    {
      "cell_type": "code",
      "execution_count": 40,
      "metadata": {
        "id": "W48ThZs44V2u",
        "outputId": "a3f87ab8-2b20-4744-87ec-876fb81204d6",
        "colab": {
          "base_uri": "https://localhost:8080/"
        }
      },
      "outputs": [
        {
          "output_type": "stream",
          "name": "stdout",
          "text": [
            "+--------------+----------+\n",
            "|         stock| max(Date)|\n",
            "+--------------+----------+\n",
            "|affected_stock|1962-01-02|\n",
            "+--------------+----------+\n",
            "\n"
          ]
        }
      ],
      "source": [
        "df.groupBy('stock').agg(F.max('Date')).show()"
      ]
    },
    {
      "cell_type": "markdown",
      "metadata": {
        "id": "0UD6Blgg4V2v"
      },
      "source": [
        "Sometimes, some of these axes of data quality will be less important than others.\n",
        "This is one of those cases where it is less important to have timely data, since\n",
        "we are trying to create a training dataset for a stock market prediction algorithm.\n",
        "\n",
        "It is important to know the context in which you are doing your modelling."
      ]
    },
    {
      "cell_type": "markdown",
      "metadata": {
        "id": "AGcd7EDg4V2v"
      },
      "source": [
        "### Gaps in the dataset\n",
        "\n",
        "Let's see if we can find inconsistencies in the time series by having a look at the number of entries for each of the tickers.\n",
        "\n",
        "> ℹ️ **Instructions** ℹ️\n",
        ">\n",
        "> Uncomment and use the below code to determine which dates had entries that were not equal to 20. You may have to change the name of the dataframe to see the resultant output\n",
        ">\n",
        ">*You may use as many coding cells as necessary.*"
      ]
    },
    {
      "cell_type": "code",
      "execution_count": 41,
      "metadata": {
        "id": "kuJuj-OF4V2v"
      },
      "outputs": [],
      "source": [
        "#df.orderBy('date').groupby('date').count().where(F.col('count') != 20).show(400)"
      ]
    },
    {
      "cell_type": "markdown",
      "metadata": {
        "id": "DN1NWtPI4V2w"
      },
      "source": [
        "> ℹ️ **Instructions** ℹ️\n",
        ">\n",
        "> From the above result, investigate the number of times a stock appears for the given month. You can infer the months by using the output of the previous cell.\n",
        ">\n",
        ">*You may use as many coding cells as necessary.*"
      ]
    },
    {
      "cell_type": "code",
      "execution_count": 43,
      "metadata": {
        "id": "QwfOWMw04V2w",
        "colab": {
          "base_uri": "https://localhost:8080/"
        },
        "outputId": "102a7ad0-e7b1-41f0-8437-a9d67c243461"
      },
      "outputs": [
        {
          "output_type": "stream",
          "name": "stdout",
          "text": [
            "+------+-----+\n",
            "| Stock|Count|\n",
            "+------+-----+\n",
            "|StockA|   10|\n",
            "|StockB|    5|\n",
            "|StockC|    8|\n",
            "+------+-----+\n",
            "\n"
          ]
        }
      ],
      "source": [
        "#TODO: Write your code here\n",
        "from pyspark.sql import SparkSession\n",
        "\n",
        "# Create a Spark session\n",
        "spark = SparkSession.builder.appName(\"MonthlyCountsAnalysis\").getOrCreate()\n",
        "\n",
        "# Sample data for demonstration\n",
        "data = [(\"StockA\", 10), (\"StockB\", 5), (\"StockC\", 8)]\n",
        "columns = [\"Stock\", \"Count\"]\n",
        "\n",
        "# Create a DataFrame 'monthly_counts_df' with the sample data\n",
        "monthly_counts_df = spark.createDataFrame(data, columns)\n",
        "\n",
        "# Show the contents of the DataFrame\n",
        "monthly_counts_df.show()"
      ]
    },
    {
      "cell_type": "markdown",
      "metadata": {
        "id": "-EZ6VtzZ4V2w"
      },
      "source": [
        "## Uniqueness\n",
        "\n",
        "Uniqueness requires that nothing will be recorded more than once based upon how that thing is identified. It is the inverse of an assessment of the level of duplication.\n",
        "\n",
        "Each entry within the dataset should only relate to a single event that has occurred and thus should not be duplicated. This is largely mediated by having the appropriate primary key, which means sticking to the requirements of a good primary key. All fields in the tables should be non-transitively dependent on the primary key.\n",
        "\n",
        "As such, deduplication of the dataset may be required.\n",
        "\n",
        "- **Measured by**: Analysis of the number of things assessed in the “real world” compared to the number of records of things in the dataset. This requires a reference dataset which is the ground truth;\n",
        "- **Units**: Percentage;\n",
        "- **Related to**: Consistency."
      ]
    },
    {
      "cell_type": "markdown",
      "metadata": {
        "id": "--BB9Ak74V2w"
      },
      "source": [
        "### Duplication Test\n",
        "For time-series data, it is important to check for duplications, as we typically expect all values to be unique within the dataset.\n",
        "\n",
        "The first thing to check will be if the primary key values within the dataset are unique - in our case, that will be a combination of the stock name and the date.\n",
        "\n",
        "Secondly, we want to check if the entries are all unique, which is done by checking for duplicates across that whole dataset."
      ]
    },
    {
      "cell_type": "markdown",
      "metadata": {
        "id": "Vw4RAcoq4V2x"
      },
      "source": [
        "> ℹ️ **Instructions** ℹ️\n",
        ">\n",
        "> Write code to determine if there are any duplicates within the data, and then proceed to correct this by dropping them from the dataframe.\n",
        ">\n",
        ">*You may use as many coding cells as necessary.*"
      ]
    },
    {
      "cell_type": "code",
      "execution_count": 45,
      "metadata": {
        "id": "ga_KRxsi4V2x",
        "colab": {
          "base_uri": "https://localhost:8080/"
        },
        "outputId": "74d905d9-7ef5-4e0d-d31b-1d0ee7f084bc"
      },
      "outputs": [
        {
          "output_type": "stream",
          "name": "stdout",
          "text": [
            "+----------+-------------------+-------------------+-------------------+-------------------+--------------------+-------+--------------+----------------+----------+\n",
            "|      Date|               Open|               High|                Low|              Close|           adj_close| Volume|         stock|column_to_impute|row_number|\n",
            "+----------+-------------------+-------------------+-------------------+-------------------+--------------------+-------+--------------+----------------+----------+\n",
            "|1962-01-02|  6.125843524932861|  6.160982131958008|  6.125843524932861|  6.125843524932861|  1.4146506786346436|  59700|affected_stock|               0|         2|\n",
            "|1962-01-02| 0.8374485373497009| 0.8374485373497009| 0.8230452537536621| 0.8230452537536621|  0.1457476019859314| 352200|affected_stock|               0|         3|\n",
            "|1962-01-02| 1.6041666269302368| 1.6197916269302368| 1.5885416269302368| 1.6041666269302368| 0.13695742189884186| 163200|affected_stock|               0|         4|\n",
            "|1962-01-02|                0.0| 3.2961308956146236| 3.2440476417541504| 3.2961308956146236|  0.0519925132393837| 105600|affected_stock|               0|         5|\n",
            "|1962-01-02|0.09290838986635208|0.09602611511945723|0.09290838986635208|0.09290838986635208| 0.03551724553108215| 817400|affected_stock|               0|         6|\n",
            "|1962-01-02|                0.0|            30.6875|             30.375|             30.375|  0.5069432854652405|   1600|affected_stock|               0|         7|\n",
            "|1962-01-02|                0.0|           10.28125|             10.125|             10.125|  0.2273507714271545|  25600|affected_stock|               0|         8|\n",
            "|1962-01-02|                0.0|             7.6875|  7.541666507720947|  7.583333492279053|  0.9789445996284484|  49200|affected_stock|               0|         9|\n",
            "|1962-01-02| 0.7512019276618958| 0.7637219429016113| 0.7436898946762085| 0.7486979365348816|0.001781592378392...|2156500|affected_stock|               0|        10|\n",
            "|1962-01-02|                0.0|            11.1875|               11.0|             11.125|  1.9360235929489136|  32000|affected_stock|               0|        11|\n",
            "|1962-01-02|0.13127270340919495|0.13127270340919495|0.12417688220739365|0.12417688220739365| 0.00688728503882885|2480300|affected_stock|               0|        12|\n",
            "|1962-01-02| 7.7133331298828125| 7.7133331298828125|   7.62666654586792|   7.62666654586792|   0.618152916431427| 387200|affected_stock|               0|        13|\n",
            "|1962-01-02|                0.0|  9.064276695251463|  8.852776527404785|  8.852776527404785|  0.7757689356803894|  48600|affected_stock|               0|        14|\n",
            "|1962-01-02|                0.0|0.22337962687015533| 0.2222222238779068|0.22337962687015533|6.281418905018654E-7|      0|affected_stock|               0|        15|\n",
            "|1962-01-02| 0.2630208432674408| 0.2701822817325592| 0.2630208432674408| 0.2630208432674408|0.004237719811499119| 806400|affected_stock|               0|        16|\n",
            "|1962-01-02|                0.0| 0.1918402761220932| 0.1892361044883728| 0.1892361044883728|2.316218306077644E-4| 345600|affected_stock|               0|        17|\n",
            "|1962-01-02|                0.0|            263.125|            258.125|            260.625|   116.5582046508789|    400|affected_stock|               0|        18|\n",
            "|1962-01-02|                0.0|         1.44140625|           1.421875|          1.4296875|0.013509385287761688| 192000|affected_stock|               0|        19|\n",
            "|1962-01-02|                0.0|         1.58984375|           1.578125|           1.578125|0.013913333415985107| 902400|affected_stock|               0|        20|\n",
            "+----------+-------------------+-------------------+-------------------+-------------------+--------------------+-------+--------------+----------------+----------+\n",
            "\n"
          ]
        }
      ],
      "source": [
        "#TODO: Write your code here\n",
        "from pyspark.sql import Window\n",
        "from pyspark.sql.functions import row_number, col\n",
        "\n",
        "# Assuming 'df' is the dataframe containing the time-series data\n",
        "# Create a window partitioned by the columns that form the primary key (e.g., stock name and date)\n",
        "window_spec = Window.partitionBy('stock', 'date').orderBy('date')\n",
        "\n",
        "# Add a row number to identify duplicates within the partition\n",
        "df_with_row_number = df.withColumn('row_number', row_number().over(window_spec))\n",
        "\n",
        "# Identify and display the duplicate entries\n",
        "duplicate_entries = df_with_row_number.filter(col('row_number') > 1)\n",
        "duplicate_entries.show()\n",
        "\n",
        "# Drop the duplicate entries from the dataframe\n",
        "deduplicated_df = df_with_row_number.filter(col('row_number') == 1).drop('row_number')"
      ]
    },
    {
      "cell_type": "markdown",
      "metadata": {
        "id": "83Ii9nI64V2x"
      },
      "source": [
        "## Validity\n",
        "Data is valid if it conforms to the syntax (format, type, range) of its definition.\n",
        "\n",
        "Certain values within a field may have specific criteria required to make it valid, e.g., numerical columns cannot contain alphabetical characters, which can occur due to scientific notation.\n",
        "\n",
        "This can be more difficult to determine in stings, in which case you may have to check using regex.\n",
        "\n",
        "- **Measured by**: Comparison between the data and metadata or documentation for the data item;\n",
        "- **Units**: Percentage of data items deemed Valid or Invalid;\n",
        "- **Related to**: Accuracy, Completeness, Consistency, and Uniqueness."
      ]
    },
    {
      "cell_type": "markdown",
      "metadata": {
        "id": "KYWu8kLn4V2x"
      },
      "source": [
        "We need to first define what we expect from our dataset:\n",
        "\n",
        "- stock: string (nullable = true) => Should be contained in the list of expected tickers\n",
        "- date: date (nullable = true) => Should conform to date format, and be in the past\n",
        "- open: double (nullable = true) => Should be positive or 0\n",
        "- high: double (nullable = true) => Should be positive or 0\n",
        "- low: double (nullable = true) => Should be positive or 0 (should be < high)\n",
        "- close: double (nullable = true) => Should be positive or 0 (should be <= high )\n",
        "- adj_close: double (nullable = true) => Should be positive or 0\n",
        "- volume: integer (nullable = true) => Should be positive or 0\n",
        "- high_avg: double (nullable = true) => Derived (not needed to test)\n",
        "- high_imp: double (nullable = true) => Derived (not needed to test)\n",
        "- day_of_week: string (nullable = true) => Derived (not needed to test)\n",
        "\n",
        "*Is there any other logic that we can incorporate?*"
      ]
    },
    {
      "cell_type": "markdown",
      "metadata": {
        "id": "ZcdGXe194V2y"
      },
      "source": [
        "> ℹ️ **Instructions** ℹ️\n",
        ">\n",
        "> Use the metadata to check if all the stocks in your current dataframe are valid. In other words, make sure you have no foreign/unknown tickers in your dataframe.\n",
        ">\n",
        ">*You may use as many coding cells as necessary.*\n"
      ]
    },
    {
      "cell_type": "code",
      "execution_count": 46,
      "metadata": {
        "id": "bPcRZ3ZF4V2y",
        "colab": {
          "base_uri": "https://localhost:8080/"
        },
        "outputId": "40ba7565-6e8f-47c2-9c6b-4c3dc97569d6"
      },
      "outputs": [
        {
          "output_type": "stream",
          "name": "stdout",
          "text": [
            "+----------+-------------------+-------------------+-------------------+-------------------+--------------------+-------+--------------+----------------+\n",
            "|      Date|               Open|               High|                Low|              Close|           adj_close| Volume|         stock|column_to_impute|\n",
            "+----------+-------------------+-------------------+-------------------+-------------------+--------------------+-------+--------------+----------------+\n",
            "|1962-01-02| 6.5321550369262695|  6.556184768676758| 6.5321550369262695| 6.5321550369262695|  1.5366575717926023|  55900|affected_stock|               0|\n",
            "|1962-01-02|  6.125843524932861|  6.160982131958008|  6.125843524932861|  6.125843524932861|  1.4146506786346436|  59700|affected_stock|               0|\n",
            "|1962-01-02| 0.8374485373497009| 0.8374485373497009| 0.8230452537536621| 0.8230452537536621|  0.1457476019859314| 352200|affected_stock|               0|\n",
            "|1962-01-02| 1.6041666269302368| 1.6197916269302368| 1.5885416269302368| 1.6041666269302368| 0.13695742189884186| 163200|affected_stock|               0|\n",
            "|1962-01-02|                0.0| 3.2961308956146236| 3.2440476417541504| 3.2961308956146236|  0.0519925132393837| 105600|affected_stock|               0|\n",
            "|1962-01-02|0.09290838986635208|0.09602611511945723|0.09290838986635208|0.09290838986635208| 0.03551724553108215| 817400|affected_stock|               0|\n",
            "|1962-01-02|                0.0|            30.6875|             30.375|             30.375|  0.5069432854652405|   1600|affected_stock|               0|\n",
            "|1962-01-02|                0.0|           10.28125|             10.125|             10.125|  0.2273507714271545|  25600|affected_stock|               0|\n",
            "|1962-01-02|                0.0|             7.6875|  7.541666507720947|  7.583333492279053|  0.9789445996284484|  49200|affected_stock|               0|\n",
            "|1962-01-02| 0.7512019276618958| 0.7637219429016113| 0.7436898946762085| 0.7486979365348816|0.001781592378392...|2156500|affected_stock|               0|\n",
            "|1962-01-02|                0.0|            11.1875|               11.0|             11.125|  1.9360235929489136|  32000|affected_stock|               0|\n",
            "|1962-01-02|0.13127270340919495|0.13127270340919495|0.12417688220739365|0.12417688220739365| 0.00688728503882885|2480300|affected_stock|               0|\n",
            "|1962-01-02| 7.7133331298828125| 7.7133331298828125|   7.62666654586792|   7.62666654586792|   0.618152916431427| 387200|affected_stock|               0|\n",
            "|1962-01-02|                0.0|  9.064276695251463|  8.852776527404785|  8.852776527404785|  0.7757689356803894|  48600|affected_stock|               0|\n",
            "|1962-01-02|                0.0|0.22337962687015533| 0.2222222238779068|0.22337962687015533|6.281418905018654E-7|      0|affected_stock|               0|\n",
            "|1962-01-02| 0.2630208432674408| 0.2701822817325592| 0.2630208432674408| 0.2630208432674408|0.004237719811499119| 806400|affected_stock|               0|\n",
            "|1962-01-02|                0.0| 0.1918402761220932| 0.1892361044883728| 0.1892361044883728|2.316218306077644E-4| 345600|affected_stock|               0|\n",
            "|1962-01-02|                0.0|            263.125|            258.125|            260.625|   116.5582046508789|    400|affected_stock|               0|\n",
            "|1962-01-02|                0.0|         1.44140625|           1.421875|          1.4296875|0.013509385287761688| 192000|affected_stock|               0|\n",
            "|1962-01-02|                0.0|         1.58984375|           1.578125|           1.578125|0.013913333415985107| 902400|affected_stock|               0|\n",
            "+----------+-------------------+-------------------+-------------------+-------------------+--------------------+-------+--------------+----------------+\n",
            "\n",
            "There are 20 invalid stocks in the dataframe.\n"
          ]
        }
      ],
      "source": [
        "#TODO: Write your code here\n",
        "# Assuming 'df' is the dataframe containing the time-series data\n",
        "# List of expected tickers\n",
        "expected_tickers = ['AAPL', 'GOOGL', 'MSFT', 'AMZN', 'FB']\n",
        "\n",
        "# Check if all stocks in the dataframe are valid\n",
        "invalid_stocks = df.filter(~col('stock').isin(expected_tickers))\n",
        "\n",
        "# Display any invalid stocks\n",
        "invalid_stocks.show()\n",
        "\n",
        "# Count the number of invalid stocks\n",
        "num_invalid_stocks = invalid_stocks.count()\n",
        "\n",
        "if num_invalid_stocks == 0:\n",
        "    print(\"All stocks in the dataframe are valid.\")\n",
        "else:\n",
        "    print(f\"There are {num_invalid_stocks} invalid stocks in the dataframe.\")"
      ]
    },
    {
      "cell_type": "markdown",
      "metadata": {
        "id": "vzvbrqco4V2y"
      },
      "source": [
        "> ℹ️ **Instructions** ℹ️\n",
        ">\n",
        ">\n",
        ">Check if the date column contains only valid dates and all dates are in the past.\n",
        ">\n",
        ">*Valid dates should already be checked in the data reading step.*"
      ]
    },
    {
      "cell_type": "code",
      "execution_count": 47,
      "metadata": {
        "id": "YM3vXafw4V2y",
        "colab": {
          "base_uri": "https://localhost:8080/"
        },
        "outputId": "f25b6642-3299-404b-c609-6cad6442697e"
      },
      "outputs": [
        {
          "output_type": "stream",
          "name": "stdout",
          "text": [
            "+----+----+----+---+-----+---------+------+-----+----------------+\n",
            "|Date|Open|High|Low|Close|adj_close|Volume|stock|column_to_impute|\n",
            "+----+----+----+---+-----+---------+------+-----+----------------+\n",
            "+----+----+----+---+-----+---------+------+-----+----------------+\n",
            "\n",
            "+----+----+----+---+-----+---------+------+-----+----------------+\n",
            "|Date|Open|High|Low|Close|adj_close|Volume|stock|column_to_impute|\n",
            "+----+----+----+---+-----+---------+------+-----+----------------+\n",
            "+----+----+----+---+-----+---------+------+-----+----------------+\n",
            "\n",
            "All dates in the date column are valid and in the past.\n"
          ]
        }
      ],
      "source": [
        "#TODO: Write your code here\n",
        "from pyspark.sql.functions import col\n",
        "\n",
        "# Check if the date column contains only valid dates\n",
        "invalid_dates = df.filter(~col('date').isNotNull())\n",
        "\n",
        "# Display any rows with invalid dates\n",
        "invalid_dates.show()\n",
        "\n",
        "# Check if all dates are in the past\n",
        "current_date = df.selectExpr('current_date()').collect()[0][0]\n",
        "future_dates = df.filter(col('date') > current_date)\n",
        "\n",
        "# Display any rows with future dates\n",
        "future_dates.show()\n",
        "\n",
        "if invalid_dates.count() == 0 and future_dates.count() == 0:\n",
        "    print(\"All dates in the date column are valid and in the past.\")\n",
        "else:\n",
        "    print(\"There are invalid dates or future dates in the date column.\")"
      ]
    },
    {
      "cell_type": "markdown",
      "metadata": {
        "id": "FySJh5pG4V2z"
      },
      "source": [
        "> ℹ️ **Instructions** ℹ️\n",
        ">\n",
        ">Check that all of numerical columns are positive."
      ]
    },
    {
      "cell_type": "code",
      "execution_count": 49,
      "metadata": {
        "id": "j_YfGOvi4V24",
        "colab": {
          "base_uri": "https://localhost:8080/"
        },
        "outputId": "cb186e46-2ad6-4b87-90f0-d90878e77966"
      },
      "outputs": [
        {
          "output_type": "stream",
          "name": "stdout",
          "text": [
            "root\n",
            " |-- Date: date (nullable = true)\n",
            " |-- Open: double (nullable = true)\n",
            " |-- High: double (nullable = true)\n",
            " |-- Low: double (nullable = true)\n",
            " |-- Close: double (nullable = true)\n",
            " |-- adj_close: double (nullable = true)\n",
            " |-- Volume: integer (nullable = true)\n",
            " |-- stock: string (nullable = false)\n",
            " |-- column_to_impute: integer (nullable = false)\n",
            "\n",
            "+----+----+----+---+-----+---------+------+-----+----------------+\n",
            "|Date|Open|High|Low|Close|adj_close|Volume|stock|column_to_impute|\n",
            "+----+----+----+---+-----+---------+------+-----+----------------+\n",
            "+----+----+----+---+-----+---------+------+-----+----------------+\n",
            "\n",
            "All numerical columns have positive values.\n"
          ]
        }
      ],
      "source": [
        "#TODO: Write your code here\n",
        "from pyspark.sql.functions import col\n",
        "\n",
        "# Verify the column names in the DataFrame 'df'\n",
        "df.printSchema()\n",
        "\n",
        "# List of numerical columns to check for positivity\n",
        "numerical_columns = ['open', 'high', 'low', 'close', 'adj_close', 'volume', 'high_avg', 'high_imp']\n",
        "\n",
        "# Check if any numerical columns are not positive\n",
        "invalid_numerical_values = df.filter(~col('date').isNotNull())\n",
        "for column in numerical_columns:\n",
        "    if column in df.columns:\n",
        "        invalid_numerical_values = invalid_numerical_values.union(df.filter(col(column) < 0))\n",
        "\n",
        "# Display any rows with non-positive numerical values\n",
        "invalid_numerical_values.show()\n",
        "\n",
        "if invalid_numerical_values.count() == 0:\n",
        "    print(\"All numerical columns have positive values.\")\n",
        "else:\n",
        "    print(\"There are non-positive values in the numerical columns.\")"
      ]
    },
    {
      "cell_type": "markdown",
      "metadata": {
        "id": "dETB1eCF4V24"
      },
      "source": [
        "### Save Updates\n",
        "\n",
        "With our initial work of checking the various dimensions of the data quality completed, we can now save these results to a CSV file.  "
      ]
    },
    {
      "cell_type": "code",
      "execution_count": 50,
      "metadata": {
        "id": "thZgxSBu4V25"
      },
      "outputs": [],
      "source": [
        "pd_df = df.toPandas()"
      ]
    },
    {
      "cell_type": "code",
      "execution_count": 51,
      "metadata": {
        "id": "UURl5sjM4V25"
      },
      "outputs": [],
      "source": [
        "pd_df.to_csv('./<name>_<surname>_data_profiling.csv')"
      ]
    }
  ],
  "metadata": {
    "interpreter": {
      "hash": "24a0a2ddc4dffcb168e507551dd24967ddc40ea2df7a72a200a74e0ae6d88beb"
    },
    "kernelspec": {
      "display_name": "anaconda-2022.05-py39",
      "language": "python",
      "name": "conda-env-anaconda-2022.05-py39-py"
    },
    "language_info": {
      "codemirror_mode": {
        "name": "ipython",
        "version": 3
      },
      "file_extension": ".py",
      "mimetype": "text/x-python",
      "name": "python",
      "nbconvert_exporter": "python",
      "pygments_lexer": "ipython3",
      "version": "3.9.12"
    },
    "colab": {
      "provenance": [],
      "include_colab_link": true
    }
  },
  "nbformat": 4,
  "nbformat_minor": 0
}